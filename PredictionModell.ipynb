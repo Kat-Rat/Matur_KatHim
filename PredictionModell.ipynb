{
 "cells": [
  {
   "cell_type": "code",
   "execution_count": null,
   "id": "59f58e66-dc8b-48cb-986a-ec669ddea687",
   "metadata": {},
   "outputs": [],
   "source": [
    "# Import libraries\n",
    "import os\n",
    "import pandas as pd\n",
    "import numpy as np\n",
    "import matplotlib.pyplot as plt\n",
    "import seaborn as sns\n",
    "from scipy.stats import chi2_contingency\n",
    "\n",
    "#import warnings\n",
    "#warnings.filterwarnings(\"ignore\")"
   ]
  },
  {
   "cell_type": "markdown",
   "id": "c83848c8-84c0-4400-a07f-bf115861a1ab",
   "metadata": {},
   "source": [
    "### Reading and Extracting Data\n"
   ]
  },
  {
   "cell_type": "code",
   "execution_count": null,
   "id": "bf1435fb-bc81-4260-b196-ab98aa9b16a8",
   "metadata": {},
   "outputs": [],
   "source": [
    "# Load the dataset\n",
    "curr_directory= os.getcwd()\n",
    "train_datapath= os.path.join(curr_directory, \"Data\", \"train.csv\")\n",
    "train_df = pd.read_csv(train_datapath)\n",
    "\n",
    "test_datapath= os.path.join(curr_directory, \"Data\", \"test.csv\")\n",
    "test_df= pd.read_csv(test_datapath)\n",
    "\n",
    "#Extract data only on women\n",
    "#df=pd.DataFrame(train_df)\n",
    "#train_df= df[df['gender'] == 'f']\n",
    "\n",
    "#df=pd.DataFrame(test_df)\n",
    "#test_df= df[df['gender'] == 'f']\n",
    "\n",
    "train_df.shape, test_df.shape"
   ]
  },
  {
   "cell_type": "markdown",
   "id": "d191a945-6b05-4268-8782-3d9d33653a6a",
   "metadata": {},
   "source": [
    "### Sanity Check and Categorizing"
   ]
  },
  {
   "cell_type": "code",
   "execution_count": 686,
   "id": "c74e8822-dcb6-4853-849d-8035c6248d95",
   "metadata": {},
   "outputs": [
    {
     "data": {
      "text/plain": [
       "Index(['ID', 'A1_Score', 'A2_Score', 'A3_Score', 'A4_Score', 'A5_Score',\n",
       "       'A6_Score', 'A7_Score', 'A8_Score', 'A9_Score', 'A10_Score', 'age',\n",
       "       'gender', 'ethnicity', 'jaundice', 'austim', 'contry_of_res',\n",
       "       'used_app_before', 'result', 'age_desc', 'relation', 'Class/ASD'],\n",
       "      dtype='object')"
      ]
     },
     "execution_count": 686,
     "metadata": {},
     "output_type": "execute_result"
    }
   ],
   "source": [
    "train_df.columns"
   ]
  },
  {
   "cell_type": "code",
   "execution_count": 687,
   "id": "9bad32ea-68d3-4bcb-8935-00c042d5902d",
   "metadata": {},
   "outputs": [
    {
     "data": {
      "text/plain": [
       "<bound method NDFrame.head of       ID  A1_Score  A2_Score  A3_Score  A4_Score  A5_Score  A6_Score  \\\n",
       "0      1         1         0         1         0         1         0   \n",
       "3      4         0         0         0         0         0         0   \n",
       "6      7         1         0         0         0         0         0   \n",
       "9     10         0         0         0         0         0         0   \n",
       "10    11         1         1         1         1         1         1   \n",
       "..   ...       ...       ...       ...       ...       ...       ...   \n",
       "783  784         1         1         1         1         1         1   \n",
       "786  787         1         1         1         1         1         0   \n",
       "788  789         0         0         0         0         0         0   \n",
       "798  799         0         0         0         0         0         0   \n",
       "799  800         0         1         0         0         0         0   \n",
       "\n",
       "     A7_Score  A8_Score  A9_Score  ...  gender        ethnicity jaundice  \\\n",
       "0           1         0         1  ...       f                ?       no   \n",
       "3           0         0         0  ...       f                ?       no   \n",
       "6           1         1         1  ...       f         Pasifika       no   \n",
       "9           0         1         0  ...       f           Others      yes   \n",
       "10          1         0         1  ...       f                ?       no   \n",
       "..        ...       ...       ...  ...     ...              ...      ...   \n",
       "783         1         0         1  ...       f   White-European       no   \n",
       "786         1         1         1  ...       f   White-European       no   \n",
       "788         0         1         0  ...       f  Middle Eastern       yes   \n",
       "798         0         0         0  ...       f                ?       no   \n",
       "799         0         0         0  ...       f                ?       no   \n",
       "\n",
       "    austim         contry_of_res used_app_before     result     age_desc  \\\n",
       "0       no               Austria              no   6.351166  18 and more   \n",
       "3       no         United States              no   2.276617  18 and more   \n",
       "6       no        United Kingdom              no   7.984569  18 and more   \n",
       "9       no           New Zealand              no  14.922570  18 and more   \n",
       "10      no                Canada              no  13.839255  18 and more   \n",
       "..     ...                   ...             ...        ...          ...   \n",
       "783    yes            Bangladesh              no  12.610653  18 and more   \n",
       "786     no        United Kingdom              no  12.285082  18 and more   \n",
       "788     no               Ireland              no   8.193630  18 and more   \n",
       "798     no                Canada              no   9.069342  18 and more   \n",
       "799     no  United Arab Emirates             yes   2.243304  18 and more   \n",
       "\n",
       "     relation Class/ASD  \n",
       "0        Self         0  \n",
       "3        Self         0  \n",
       "6        Self         0  \n",
       "9        Self         0  \n",
       "10       Self         0  \n",
       "..        ...       ...  \n",
       "783      Self         0  \n",
       "786      Self         0  \n",
       "788         ?         0  \n",
       "798      Self         0  \n",
       "799      Self         0  \n",
       "\n",
       "[270 rows x 22 columns]>"
      ]
     },
     "execution_count": 687,
     "metadata": {},
     "output_type": "execute_result"
    }
   ],
   "source": [
    "train_df.head"
   ]
  },
  {
   "cell_type": "code",
   "execution_count": 688,
   "id": "10a5e3e4-e25f-45fa-90ed-bb8f50db8f81",
   "metadata": {},
   "outputs": [
    {
     "data": {
      "text/plain": [
       "['Class/ASD']"
      ]
     },
     "execution_count": 688,
     "metadata": {},
     "output_type": "execute_result"
    }
   ],
   "source": [
    "# Identifying the target column\n",
    "[x for x in train_df.columns if x not in test_df.columns]"
   ]
  },
  {
   "cell_type": "code",
   "execution_count": 689,
   "id": "dfbd4c09-b232-4bd0-b877-993a785784a9",
   "metadata": {},
   "outputs": [
    {
     "name": "stdout",
     "output_type": "stream",
     "text": [
      "<class 'pandas.core.frame.DataFrame'>\n",
      "Index: 270 entries, 0 to 799\n",
      "Data columns (total 22 columns):\n",
      " #   Column           Non-Null Count  Dtype  \n",
      "---  ------           --------------  -----  \n",
      " 0   ID               270 non-null    int64  \n",
      " 1   A1_Score         270 non-null    int64  \n",
      " 2   A2_Score         270 non-null    int64  \n",
      " 3   A3_Score         270 non-null    int64  \n",
      " 4   A4_Score         270 non-null    int64  \n",
      " 5   A5_Score         270 non-null    int64  \n",
      " 6   A6_Score         270 non-null    int64  \n",
      " 7   A7_Score         270 non-null    int64  \n",
      " 8   A8_Score         270 non-null    int64  \n",
      " 9   A9_Score         270 non-null    int64  \n",
      " 10  A10_Score        270 non-null    int64  \n",
      " 11  age              270 non-null    float64\n",
      " 12  gender           270 non-null    object \n",
      " 13  ethnicity        270 non-null    object \n",
      " 14  jaundice         270 non-null    object \n",
      " 15  austim           270 non-null    object \n",
      " 16  contry_of_res    270 non-null    object \n",
      " 17  used_app_before  270 non-null    object \n",
      " 18  result           270 non-null    float64\n",
      " 19  age_desc         270 non-null    object \n",
      " 20  relation         270 non-null    object \n",
      " 21  Class/ASD        270 non-null    int64  \n",
      "dtypes: float64(2), int64(12), object(8)\n",
      "memory usage: 48.5+ KB\n"
     ]
    }
   ],
   "source": [
    "# Finding the non null rows and data type across columns\n",
    "train_df.info()"
   ]
  },
  {
   "cell_type": "code",
   "execution_count": 690,
   "id": "85087102-a95b-407c-97ba-a81e734c6308",
   "metadata": {},
   "outputs": [
    {
     "name": "stdout",
     "output_type": "stream",
     "text": [
      "Numerical columns \n",
      " ['ID', 'A1_Score', 'A2_Score', 'A3_Score', 'A4_Score', 'A5_Score', 'A6_Score', 'A7_Score', 'A8_Score', 'A9_Score', 'A10_Score', 'age', 'result', 'Class/ASD']\n",
      "Categorical columns \n",
      " ['gender', 'ethnicity', 'jaundice', 'austim', 'contry_of_res', 'used_app_before', 'age_desc', 'relation']\n"
     ]
    }
   ],
   "source": [
    "#Splitting numerical and categorical columns\n",
    "def get_num_cat_cols(data):\n",
    "    \n",
    "    num_cls = [x for x in data.columns if data[x].dtype != 'object']\n",
    "    cat_cls = [x for x in data.columns if x not in num_cls]\n",
    "\n",
    "    print(f'Numerical columns \\n',num_cls)\n",
    "    print(f'Categorical columns \\n',cat_cls)\n",
    "\n",
    "    return num_cls, cat_cls\n",
    "    \n",
    "num_cols, cat_cols = get_num_cat_cols(train_df)"
   ]
  },
  {
   "cell_type": "code",
   "execution_count": 691,
   "id": "0ec71e97-bb6e-48b0-aeeb-599f36ecbae8",
   "metadata": {},
   "outputs": [
    {
     "data": {
      "text/html": [
       "<div>\n",
       "<style scoped>\n",
       "    .dataframe tbody tr th:only-of-type {\n",
       "        vertical-align: middle;\n",
       "    }\n",
       "\n",
       "    .dataframe tbody tr th {\n",
       "        vertical-align: top;\n",
       "    }\n",
       "\n",
       "    .dataframe thead th {\n",
       "        text-align: right;\n",
       "    }\n",
       "</style>\n",
       "<table border=\"1\" class=\"dataframe\">\n",
       "  <thead>\n",
       "    <tr style=\"text-align: right;\">\n",
       "      <th></th>\n",
       "      <th>ID</th>\n",
       "      <th>A1_Score</th>\n",
       "      <th>A2_Score</th>\n",
       "      <th>A3_Score</th>\n",
       "      <th>A4_Score</th>\n",
       "      <th>A5_Score</th>\n",
       "      <th>A6_Score</th>\n",
       "      <th>A7_Score</th>\n",
       "      <th>A8_Score</th>\n",
       "      <th>A9_Score</th>\n",
       "      <th>A10_Score</th>\n",
       "      <th>age</th>\n",
       "      <th>result</th>\n",
       "      <th>Class/ASD</th>\n",
       "    </tr>\n",
       "  </thead>\n",
       "  <tbody>\n",
       "    <tr>\n",
       "      <th>count</th>\n",
       "      <td>270.000000</td>\n",
       "      <td>270.000000</td>\n",
       "      <td>270.000000</td>\n",
       "      <td>270.000000</td>\n",
       "      <td>270.000000</td>\n",
       "      <td>270.000000</td>\n",
       "      <td>270.000000</td>\n",
       "      <td>270.000000</td>\n",
       "      <td>270.000000</td>\n",
       "      <td>270.000000</td>\n",
       "      <td>270.000000</td>\n",
       "      <td>270.000000</td>\n",
       "      <td>270.000000</td>\n",
       "      <td>270.000000</td>\n",
       "    </tr>\n",
       "    <tr>\n",
       "      <th>mean</th>\n",
       "      <td>404.962963</td>\n",
       "      <td>0.625926</td>\n",
       "      <td>0.562963</td>\n",
       "      <td>0.492593</td>\n",
       "      <td>0.418519</td>\n",
       "      <td>0.425926</td>\n",
       "      <td>0.322222</td>\n",
       "      <td>0.440741</td>\n",
       "      <td>0.533333</td>\n",
       "      <td>0.525926</td>\n",
       "      <td>0.670370</td>\n",
       "      <td>29.373599</td>\n",
       "      <td>8.508617</td>\n",
       "      <td>0.203704</td>\n",
       "    </tr>\n",
       "    <tr>\n",
       "      <th>std</th>\n",
       "      <td>227.288229</td>\n",
       "      <td>0.484781</td>\n",
       "      <td>0.496941</td>\n",
       "      <td>0.500874</td>\n",
       "      <td>0.494232</td>\n",
       "      <td>0.495401</td>\n",
       "      <td>0.468195</td>\n",
       "      <td>0.497398</td>\n",
       "      <td>0.499814</td>\n",
       "      <td>0.500255</td>\n",
       "      <td>0.470952</td>\n",
       "      <td>16.539711</td>\n",
       "      <td>4.975614</td>\n",
       "      <td>0.403499</td>\n",
       "    </tr>\n",
       "    <tr>\n",
       "      <th>min</th>\n",
       "      <td>1.000000</td>\n",
       "      <td>0.000000</td>\n",
       "      <td>0.000000</td>\n",
       "      <td>0.000000</td>\n",
       "      <td>0.000000</td>\n",
       "      <td>0.000000</td>\n",
       "      <td>0.000000</td>\n",
       "      <td>0.000000</td>\n",
       "      <td>0.000000</td>\n",
       "      <td>0.000000</td>\n",
       "      <td>0.000000</td>\n",
       "      <td>2.718550</td>\n",
       "      <td>-6.137748</td>\n",
       "      <td>0.000000</td>\n",
       "    </tr>\n",
       "    <tr>\n",
       "      <th>25%</th>\n",
       "      <td>205.500000</td>\n",
       "      <td>0.000000</td>\n",
       "      <td>0.000000</td>\n",
       "      <td>0.000000</td>\n",
       "      <td>0.000000</td>\n",
       "      <td>0.000000</td>\n",
       "      <td>0.000000</td>\n",
       "      <td>0.000000</td>\n",
       "      <td>0.000000</td>\n",
       "      <td>0.000000</td>\n",
       "      <td>0.000000</td>\n",
       "      <td>17.666062</td>\n",
       "      <td>5.191252</td>\n",
       "      <td>0.000000</td>\n",
       "    </tr>\n",
       "    <tr>\n",
       "      <th>50%</th>\n",
       "      <td>402.500000</td>\n",
       "      <td>1.000000</td>\n",
       "      <td>1.000000</td>\n",
       "      <td>0.000000</td>\n",
       "      <td>0.000000</td>\n",
       "      <td>0.000000</td>\n",
       "      <td>0.000000</td>\n",
       "      <td>0.000000</td>\n",
       "      <td>1.000000</td>\n",
       "      <td>1.000000</td>\n",
       "      <td>1.000000</td>\n",
       "      <td>25.453754</td>\n",
       "      <td>9.463980</td>\n",
       "      <td>0.000000</td>\n",
       "    </tr>\n",
       "    <tr>\n",
       "      <th>75%</th>\n",
       "      <td>593.250000</td>\n",
       "      <td>1.000000</td>\n",
       "      <td>1.000000</td>\n",
       "      <td>1.000000</td>\n",
       "      <td>1.000000</td>\n",
       "      <td>1.000000</td>\n",
       "      <td>1.000000</td>\n",
       "      <td>1.000000</td>\n",
       "      <td>1.000000</td>\n",
       "      <td>1.000000</td>\n",
       "      <td>1.000000</td>\n",
       "      <td>36.781110</td>\n",
       "      <td>12.618522</td>\n",
       "      <td>0.000000</td>\n",
       "    </tr>\n",
       "    <tr>\n",
       "      <th>max</th>\n",
       "      <td>800.000000</td>\n",
       "      <td>1.000000</td>\n",
       "      <td>1.000000</td>\n",
       "      <td>1.000000</td>\n",
       "      <td>1.000000</td>\n",
       "      <td>1.000000</td>\n",
       "      <td>1.000000</td>\n",
       "      <td>1.000000</td>\n",
       "      <td>1.000000</td>\n",
       "      <td>1.000000</td>\n",
       "      <td>1.000000</td>\n",
       "      <td>80.544085</td>\n",
       "      <td>15.853126</td>\n",
       "      <td>1.000000</td>\n",
       "    </tr>\n",
       "  </tbody>\n",
       "</table>\n",
       "</div>"
      ],
      "text/plain": [
       "               ID    A1_Score    A2_Score    A3_Score    A4_Score    A5_Score  \\\n",
       "count  270.000000  270.000000  270.000000  270.000000  270.000000  270.000000   \n",
       "mean   404.962963    0.625926    0.562963    0.492593    0.418519    0.425926   \n",
       "std    227.288229    0.484781    0.496941    0.500874    0.494232    0.495401   \n",
       "min      1.000000    0.000000    0.000000    0.000000    0.000000    0.000000   \n",
       "25%    205.500000    0.000000    0.000000    0.000000    0.000000    0.000000   \n",
       "50%    402.500000    1.000000    1.000000    0.000000    0.000000    0.000000   \n",
       "75%    593.250000    1.000000    1.000000    1.000000    1.000000    1.000000   \n",
       "max    800.000000    1.000000    1.000000    1.000000    1.000000    1.000000   \n",
       "\n",
       "         A6_Score    A7_Score    A8_Score    A9_Score   A10_Score         age  \\\n",
       "count  270.000000  270.000000  270.000000  270.000000  270.000000  270.000000   \n",
       "mean     0.322222    0.440741    0.533333    0.525926    0.670370   29.373599   \n",
       "std      0.468195    0.497398    0.499814    0.500255    0.470952   16.539711   \n",
       "min      0.000000    0.000000    0.000000    0.000000    0.000000    2.718550   \n",
       "25%      0.000000    0.000000    0.000000    0.000000    0.000000   17.666062   \n",
       "50%      0.000000    0.000000    1.000000    1.000000    1.000000   25.453754   \n",
       "75%      1.000000    1.000000    1.000000    1.000000    1.000000   36.781110   \n",
       "max      1.000000    1.000000    1.000000    1.000000    1.000000   80.544085   \n",
       "\n",
       "           result   Class/ASD  \n",
       "count  270.000000  270.000000  \n",
       "mean     8.508617    0.203704  \n",
       "std      4.975614    0.403499  \n",
       "min     -6.137748    0.000000  \n",
       "25%      5.191252    0.000000  \n",
       "50%      9.463980    0.000000  \n",
       "75%     12.618522    0.000000  \n",
       "max     15.853126    1.000000  "
      ]
     },
     "execution_count": 691,
     "metadata": {},
     "output_type": "execute_result"
    }
   ],
   "source": [
    "# Descriptive statistics for numerical columns\n",
    "train_df[num_cols].describe()\n",
    "\n",
    "#Information extracted:\n",
    "#   Columns A1_Score-A10_Score are binary 1 or 0\n",
    "#   Age: 2-80 yrs\n",
    "#   at least 75% have ASC"
   ]
  },
  {
   "cell_type": "markdown",
   "id": "a7edf5f5-5c2f-4674-8e95-062615fa6a5d",
   "metadata": {},
   "source": [
    "### Data Cleaning"
   ]
  },
  {
   "cell_type": "code",
   "execution_count": 692,
   "id": "353ae7f7-44b3-4fb3-a9a5-0289fdec14d7",
   "metadata": {},
   "outputs": [
    {
     "name": "stdout",
     "output_type": "stream",
     "text": [
      "----------------------------------------------------------------------------------------------------\n",
      "Column Name - gender\n",
      "----------\n",
      "gender\n",
      "f    270\n",
      "Name: count, dtype: int64\n",
      "----------------------------------------------------------------------------------------------------\n",
      "Column Name - ethnicity\n",
      "----------\n",
      "ethnicity\n",
      "White-European     92\n",
      "?                  76\n",
      "Asian              23\n",
      "Middle Eastern     23\n",
      "Black              14\n",
      "South Asian        14\n",
      "Pasifika            9\n",
      "Others              8\n",
      "Latino              7\n",
      "Hispanic            2\n",
      "Turkish             1\n",
      "others              1\n",
      "Name: count, dtype: int64\n",
      "----------------------------------------------------------------------------------------------------\n",
      "Column Name - jaundice\n",
      "----------\n",
      "jaundice\n",
      "no     207\n",
      "yes     63\n",
      "Name: count, dtype: int64\n",
      "----------------------------------------------------------------------------------------------------\n",
      "Column Name - austim\n",
      "----------\n",
      "austim\n",
      "no     228\n",
      "yes     42\n",
      "Name: count, dtype: int64\n",
      "----------------------------------------------------------------------------------------------------\n",
      "Column Name - contry_of_res\n",
      "----------\n",
      "contry_of_res\n",
      "United States           46\n",
      "India                   33\n",
      "United Kingdom          26\n",
      "New Zealand             25\n",
      "Jordan                  16\n",
      "United Arab Emirates    16\n",
      "Canada                  11\n",
      "Australia                9\n",
      "Netherlands              9\n",
      "Sri Lanka                7\n",
      "Austria                  6\n",
      "Spain                    6\n",
      "Afghanistan              4\n",
      "Iran                     4\n",
      "Ireland                  4\n",
      "Italy                    4\n",
      "Kazakhstan               4\n",
      "Russia                   3\n",
      "South Africa             3\n",
      "Pakistan                 3\n",
      "Bolivia                  2\n",
      "Brazil                   2\n",
      "AmericanSamoa            2\n",
      "Armenia                  2\n",
      "France                   2\n",
      "Viet Nam                 1\n",
      "Niger                    1\n",
      "Ukraine                  1\n",
      "Iraq                     1\n",
      "Romania                  1\n",
      "Cyprus                   1\n",
      "Bahamas                  1\n",
      "Aruba                    1\n",
      "Iceland                  1\n",
      "Japan                    1\n",
      "Mexico                   1\n",
      "Malaysia                 1\n",
      "Nicaragua                1\n",
      "Germany                  1\n",
      "Ethiopia                 1\n",
      "Tonga                    1\n",
      "Angola                   1\n",
      "Sweden                   1\n",
      "Azerbaijan               1\n",
      "Oman                     1\n",
      "Bangladesh               1\n",
      "Name: count, dtype: int64\n",
      "----------------------------------------------------------------------------------------------------\n",
      "Column Name - used_app_before\n",
      "----------\n",
      "used_app_before\n",
      "no     252\n",
      "yes     18\n",
      "Name: count, dtype: int64\n",
      "----------------------------------------------------------------------------------------------------\n",
      "Column Name - age_desc\n",
      "----------\n",
      "age_desc\n",
      "18 and more    270\n",
      "Name: count, dtype: int64\n",
      "----------------------------------------------------------------------------------------------------\n",
      "Column Name - relation\n",
      "----------\n",
      "relation\n",
      "Self                        241\n",
      "?                            17\n",
      "Parent                        8\n",
      "Relative                      3\n",
      "Health care professional      1\n",
      "Name: count, dtype: int64\n"
     ]
    }
   ],
   "source": [
    "# Checking for special characters in categorical columns\n",
    "for c in cat_cols:\n",
    "    print('-'*100)\n",
    "    print(f'Column Name - {c}')\n",
    "    print('-'*10)\n",
    "    print(train_df[c].value_counts())\n",
    "#for columns \"relation\" & \"ethnicity\" we have special characters \"?\""
   ]
  },
  {
   "cell_type": "code",
   "execution_count": 693,
   "id": "739766e4-ed25-48d0-81f8-637dd586be29",
   "metadata": {},
   "outputs": [
    {
     "name": "stdout",
     "output_type": "stream",
     "text": [
      "      ID  A1_Score  A2_Score  A3_Score  A4_Score  A5_Score  A6_Score  \\\n",
      "610  611         1         1         0         1         0         0   \n",
      "\n",
      "     A7_Score  A8_Score  A9_Score  ...  gender  ethnicity jaundice austim  \\\n",
      "610         0         0         0  ...       f          ?      yes     no   \n",
      "\n",
      "    contry_of_res used_app_before    result     age_desc  \\\n",
      "610         India              no  6.212423  18 and more   \n",
      "\n",
      "                     relation Class/ASD  \n",
      "610  Health care professional         0  \n",
      "\n",
      "[1 rows x 22 columns]\n"
     ]
    }
   ],
   "source": [
    "#Questionnaire filled by an professional\n",
    "print(train_df[train_df['relation'] == 'Health care professional'])"
   ]
  },
  {
   "cell_type": "code",
   "execution_count": 694,
   "id": "c4132c85-63be-4df0-a39d-ca57bc3118fd",
   "metadata": {},
   "outputs": [
    {
     "name": "stderr",
     "output_type": "stream",
     "text": [
      "C:\\Users\\patel\\AppData\\Local\\Temp\\ipykernel_42504\\1843918703.py:6: SettingWithCopyWarning: \n",
      "A value is trying to be set on a copy of a slice from a DataFrame.\n",
      "Try using .loc[row_indexer,col_indexer] = value instead\n",
      "\n",
      "See the caveats in the documentation: https://pandas.pydata.org/pandas-docs/stable/user_guide/indexing.html#returning-a-view-versus-a-copy\n",
      "  test_df['relation'] = test_df['relation'].replace('?','Others')\n",
      "C:\\Users\\patel\\AppData\\Local\\Temp\\ipykernel_42504\\1843918703.py:7: SettingWithCopyWarning: \n",
      "A value is trying to be set on a copy of a slice from a DataFrame.\n",
      "Try using .loc[row_indexer,col_indexer] = value instead\n",
      "\n",
      "See the caveats in the documentation: https://pandas.pydata.org/pandas-docs/stable/user_guide/indexing.html#returning-a-view-versus-a-copy\n",
      "  test_df['ethnicity'] = test_df['ethnicity'].replace('?','others')\n"
     ]
    }
   ],
   "source": [
    "# \"?\" will be replaced by \"others\"\n",
    "#\n",
    "train_df['relation'] = train_df['relation'].replace('?','Others')\n",
    "train_df['ethnicity'] = train_df['ethnicity'].replace('?','others')\n",
    "\n",
    "test_df['relation'] = test_df['relation'].replace('?','Others')\n",
    "test_df['ethnicity'] = test_df['ethnicity'].replace('?','others')"
   ]
  },
  {
   "cell_type": "code",
   "execution_count": 695,
   "id": "4c519877-ac8b-4c78-b716-ed4425fbfb1d",
   "metadata": {},
   "outputs": [
    {
     "name": "stderr",
     "output_type": "stream",
     "text": [
      "C:\\Users\\patel\\AppData\\Local\\Temp\\ipykernel_42504\\3927273646.py:3: SettingWithCopyWarning: \n",
      "A value is trying to be set on a copy of a slice from a DataFrame\n",
      "\n",
      "See the caveats in the documentation: https://pandas.pydata.org/pandas-docs/stable/user_guide/indexing.html#returning-a-view-versus-a-copy\n",
      "  test_df.drop('age_desc',axis=1,inplace=True)\n"
     ]
    }
   ],
   "source": [
    "#dropping the column in both train and test dataset\n",
    "train_df.drop('age_desc',axis=1,inplace=True)\n",
    "test_df.drop('age_desc',axis=1,inplace=True)"
   ]
  },
  {
   "cell_type": "code",
   "execution_count": 696,
   "id": "b6db8238-4c3a-4265-a3b2-da39bb92168b",
   "metadata": {},
   "outputs": [
    {
     "name": "stdout",
     "output_type": "stream",
     "text": [
      "Numerical columns \n",
      " ['ID', 'A1_Score', 'A2_Score', 'A3_Score', 'A4_Score', 'A5_Score', 'A6_Score', 'A7_Score', 'A8_Score', 'A9_Score', 'A10_Score', 'age', 'result', 'Class/ASD']\n",
      "Categorical columns \n",
      " ['gender', 'ethnicity', 'jaundice', 'austim', 'contry_of_res', 'used_app_before', 'relation']\n"
     ]
    }
   ],
   "source": [
    "# Recreating the numerical and categorical columns list\n",
    "num_cols, cat_cols = get_num_cat_cols(train_df)"
   ]
  },
  {
   "cell_type": "code",
   "execution_count": 697,
   "id": "2b1bcc0f-4c65-4ce0-a1a0-ecf39927841a",
   "metadata": {},
   "outputs": [
    {
     "name": "stdout",
     "output_type": "stream",
     "text": [
      "['gender', 'ethnicity', 'jaundice', 'austim', 'contry_of_res', 'used_app_before', 'relation', 'A1_Score', 'A2_Score', 'A3_Score', 'A4_Score', 'A5_Score', 'A6_Score', 'A7_Score', 'A8_Score', 'A9_Score', 'A10_Score']\n",
      "['ID', 'age', 'result', 'Class/ASD']\n"
     ]
    }
   ],
   "source": [
    "# A(x)_Score being binary acts like a categorial value instead of a continuous value\n",
    "#In addition following alogorithms won't assume ordinal relationsships if A(x)_Score is categorial\n",
    "# Moving the binary variables to categorical columns list, for EDA\n",
    "cat_cols = cat_cols + [x for x in num_cols if '_Score' in x]\n",
    "print(cat_cols)\n",
    "num_cols = [x for x in num_cols if x not in cat_cols]\n",
    "print(num_cols)\n",
    "\n",
    "# --> resulting in only 2 numerical columns"
   ]
  },
  {
   "cell_type": "markdown",
   "id": "6d6cd0af-4c25-4dd8-b1ea-b341f096b622",
   "metadata": {},
   "source": [
    "### EDA"
   ]
  },
  {
   "cell_type": "code",
   "execution_count": 698,
   "id": "e827f61e-a6ea-474a-ad6c-2442f3f0356d",
   "metadata": {},
   "outputs": [
    {
     "data": {
      "text/plain": [
       "<Axes: xlabel='Class/ASD', ylabel='result'>"
      ]
     },
     "execution_count": 698,
     "metadata": {},
     "output_type": "execute_result"
    },
    {
     "data": {
      "image/png": "[encoded data removed]",
      "text/plain": [
       "<Figure size 640x480 with 1 Axes>"
      ]
     },
     "metadata": {},
     "output_type": "display_data"
    }
   ],
   "source": [
    "# Possible correlations between ASD - result\n",
    "sns.boxplot(x = train_df['Class/ASD'], y = train_df['result'])"
   ]
  },
  {
   "cell_type": "code",
   "execution_count": 699,
   "id": "8d9e4abf-b59b-43d6-b580-5db4a3a7cda5",
   "metadata": {},
   "outputs": [
    {
     "name": "stderr",
     "output_type": "stream",
     "text": [
      "C:\\Users\\patel\\AnacondaDistribution\\Lib\\site-packages\\seaborn\\_oldcore.py:1119: FutureWarning: use_inf_as_na option is deprecated and will be removed in a future version. Convert inf values to NaN before operating instead.\n",
      "  with pd.option_context('mode.use_inf_as_na', True):\n"
     ]
    },
    {
     "data": {
      "text/plain": [
       "<Axes: xlabel='result', ylabel='Count'>"
      ]
     },
     "execution_count": 699,
     "metadata": {},
     "output_type": "execute_result"
    },
    {
     "data": {
      "image/png": "[encoded data removed]",
      "text/plain": [
       "<Figure size 640x480 with 1 Axes>"
      ]
     },
     "metadata": {},
     "output_type": "display_data"
    }
   ],
   "source": [
    "sns.histplot(x = train_df['result'], hue = train_df['Class/ASD'])"
   ]
  },
  {
   "cell_type": "code",
   "execution_count": 700,
   "id": "22c693af-be24-4509-8a54-e46222b38302",
   "metadata": {},
   "outputs": [
    {
     "name": "stderr",
     "output_type": "stream",
     "text": [
      "C:\\Users\\patel\\AnacondaDistribution\\Lib\\site-packages\\seaborn\\_oldcore.py:1119: FutureWarning: use_inf_as_na option is deprecated and will be removed in a future version. Convert inf values to NaN before operating instead.\n",
      "  with pd.option_context('mode.use_inf_as_na', True):\n"
     ]
    },
    {
     "data": {
      "text/plain": [
       "<Axes: xlabel='austim', ylabel='Count'>"
      ]
     },
     "execution_count": 700,
     "metadata": {},
     "output_type": "execute_result"
    },
    {
     "data": {
      "image/png": "[encoded data removed]",
      "text/plain": [
       "<Figure size 640x480 with 1 Axes>"
      ]
     },
     "metadata": {},
     "output_type": "display_data"
    }
   ],
   "source": [
    "sns.histplot(x = train_df['austim'], hue = train_df['Class/ASD'])"
   ]
  },
  {
   "cell_type": "code",
   "execution_count": 701,
   "id": "10e4c4a7-7b56-4070-97af-7d99fec6bced",
   "metadata": {},
   "outputs": [],
   "source": [
    "# Function to conduct chi square test between categorical feature and target feature \n",
    "def chi_sq_test(ct):\n",
    "    # input crosstab of 2 categorical variables\n",
    "    stat, p, dof, expected = chi2_contingency(ct)\n",
    "\n",
    "    # interpret p-value\n",
    "    alpha = 0.05\n",
    "    print(\"p value is \" + str(p))\n",
    "    if p <= alpha:\n",
    "        print('Both variables are Dependent (reject H0)')\n",
    "    else:\n",
    "        print('Both variables are Independent (H0 holds true)')\n",
    "\n",
    "#enhancing results with either the Bayesian method or resampling methods like bootstrapping or permutation"
   ]
  },
  {
   "cell_type": "code",
   "execution_count": 702,
   "id": "e30a7700-cfa7-4953-81b9-2294f871dd48",
   "metadata": {},
   "outputs": [],
   "source": [
    "# Function: Stacked bar graphs between categorical feature and target variable, \n",
    "# also helps us know the dependent variable using chisquare function - this step is feature selection\n",
    "def cat_col_test(df, cat_colname, target_colname):\n",
    "    \n",
    "    print(f\"Column name - {cat_colname}\")\n",
    "    ct = pd.crosstab(df[cat_colname],df[target_colname])\n",
    "    chi_sq_test(ct)\n",
    "    ax = ct.plot(kind='bar',stacked=True, rot = 45)\n",
    "    ax.legend(title='mark', bbox_to_anchor=(1, 1.02), loc='upper left')\n",
    "\n",
    "    for c in ax.containers:\n",
    "        ax.bar_label(c, label_type='center')\n",
    "    plt.show()"
   ]
  },
  {
   "cell_type": "code",
   "execution_count": 703,
   "id": "e2e2004d-d575-4165-9ada-f8a0d6d20a78",
   "metadata": {},
   "outputs": [
    {
     "name": "stdout",
     "output_type": "stream",
     "text": [
      "Column name - gender\n",
      "p value is 1.0\n",
      "Both variables are Independent (H0 holds true)\n"
     ]
    },
    {
     "data": {
      "image/png": "[encoded data removed]",
      "text/plain": [
       "<Figure size 640x480 with 1 Axes>"
      ]
     },
     "metadata": {},
     "output_type": "display_data"
    },
    {
     "name": "stdout",
     "output_type": "stream",
     "text": [
      "Column name - ethnicity\n",
      "p value is 6.15416776799905e-11\n",
      "Both variables are Dependent (reject H0)\n"
     ]
    },
    {
     "data": {
      "image/png": "[encoded data removed]",
      "text/plain": [
       "<Figure size 640x480 with 1 Axes>"
      ]
     },
     "metadata": {},
     "output_type": "display_data"
    },
    {
     "name": "stdout",
     "output_type": "stream",
     "text": [
      "Column name - jaundice\n",
      "p value is 0.017230028418325573\n",
      "Both variables are Dependent (reject H0)\n"
     ]
    },
    {
     "data": {
      "image/png": "[encoded data removed]",
      "text/plain": [
       "<Figure size 640x480 with 1 Axes>"
      ]
     },
     "metadata": {},
     "output_type": "display_data"
    },
    {
     "name": "stdout",
     "output_type": "stream",
     "text": [
      "Column name - austim\n",
      "p value is 6.362340969122365e-07\n",
      "Both variables are Dependent (reject H0)\n"
     ]
    },
    {
     "data": {
      "image/png": "[encoded data removed]",
      "text/plain": [
       "<Figure size 640x480 with 1 Axes>"
      ]
     },
     "metadata": {},
     "output_type": "display_data"
    },
    {
     "name": "stdout",
     "output_type": "stream",
     "text": [
      "Column name - contry_of_res\n",
      "p value is 8.4313224541136e-05\n",
      "Both variables are Dependent (reject H0)\n"
     ]
    },
    {
     "data": {
      "image/png": "[encoded data removed]",
      "text/plain": [
       "<Figure size 640x480 with 1 Axes>"
      ]
     },
     "metadata": {},
     "output_type": "display_data"
    },
    {
     "name": "stdout",
     "output_type": "stream",
     "text": [
      "Column name - used_app_before\n",
      "p value is 0.6136928196782612\n",
      "Both variables are Independent (H0 holds true)\n"
     ]
    },
    {
     "data": {
      "image/png": "[encoded data removed]",
      "text/plain": [
       "<Figure size 640x480 with 1 Axes>"
      ]
     },
     "metadata": {},
     "output_type": "display_data"
    },
    {
     "name": "stdout",
     "output_type": "stream",
     "text": [
      "Column name - relation\n",
      "p value is 0.2091972583801398\n",
      "Both variables are Independent (H0 holds true)\n"
     ]
    },
    {
     "data": {
      "image/png": "[encoded data removed]",
      "text/plain": [
       "<Figure size 640x480 with 1 Axes>"
      ]
     },
     "metadata": {},
     "output_type": "display_data"
    },
    {
     "name": "stdout",
     "output_type": "stream",
     "text": [
      "Column name - A1_Score\n",
      "p value is 4.450735896554666e-05\n",
      "Both variables are Dependent (reject H0)\n"
     ]
    },
    {
     "data": {
      "image/png": "[encoded data removed]",
      "text/plain": [
       "<Figure size 640x480 with 1 Axes>"
      ]
     },
     "metadata": {},
     "output_type": "display_data"
    },
    {
     "name": "stdout",
     "output_type": "stream",
     "text": [
      "Column name - A2_Score\n",
      "p value is 9.171095304396603e-08\n",
      "Both variables are Dependent (reject H0)\n"
     ]
    },
    {
     "data": {
      "image/png": "[encoded data removed]",
      "text/plain": [
       "<Figure size 640x480 with 1 Axes>"
      ]
     },
     "metadata": {},
     "output_type": "display_data"
    },
    {
     "name": "stdout",
     "output_type": "stream",
     "text": [
      "Column name - A3_Score\n",
      "p value is 6.91440110496025e-10\n",
      "Both variables are Dependent (reject H0)\n"
     ]
    },
    {
     "data": {
      "image/png": "[encoded data removed]",
      "text/plain": [
       "<Figure size 640x480 with 1 Axes>"
      ]
     },
     "metadata": {},
     "output_type": "display_data"
    },
    {
     "name": "stdout",
     "output_type": "stream",
     "text": [
      "Column name - A4_Score\n",
      "p value is 5.943552634792169e-15\n",
      "Both variables are Dependent (reject H0)\n"
     ]
    },
    {
     "data": {
      "image/png": "[encoded data removed]",
      "text/plain": [
       "<Figure size 640x480 with 1 Axes>"
      ]
     },
     "metadata": {},
     "output_type": "display_data"
    },
    {
     "name": "stdout",
     "output_type": "stream",
     "text": [
      "Column name - A5_Score\n",
      "p value is 5.5851550005002315e-09\n",
      "Both variables are Dependent (reject H0)\n"
     ]
    },
    {
     "data": {
      "image/png": "[encoded data removed]",
      "text/plain": [
       "<Figure size 640x480 with 1 Axes>"
      ]
     },
     "metadata": {},
     "output_type": "display_data"
    },
    {
     "name": "stdout",
     "output_type": "stream",
     "text": [
      "Column name - A6_Score\n",
      "p value is 1.771806323309438e-13\n",
      "Both variables are Dependent (reject H0)\n"
     ]
    },
    {
     "data": {
      "image/png": "[encoded data removed]",
      "text/plain": [
       "<Figure size 640x480 with 1 Axes>"
      ]
     },
     "metadata": {},
     "output_type": "display_data"
    },
    {
     "name": "stdout",
     "output_type": "stream",
     "text": [
      "Column name - A7_Score\n",
      "p value is 9.774270565093968e-11\n",
      "Both variables are Dependent (reject H0)\n"
     ]
    },
    {
     "data": {
      "image/png": "[encoded data removed]",
      "text/plain": [
       "<Figure size 640x480 with 1 Axes>"
      ]
     },
     "metadata": {},
     "output_type": "display_data"
    },
    {
     "name": "stdout",
     "output_type": "stream",
     "text": [
      "Column name - A8_Score\n",
      "p value is 4.353213491369823e-06\n",
      "Both variables are Dependent (reject H0)\n"
     ]
    },
    {
     "data": {
      "image/png": "[encoded data removed]",
      "text/plain": [
       "<Figure size 640x480 with 1 Axes>"
      ]
     },
     "metadata": {},
     "output_type": "display_data"
    },
    {
     "name": "stdout",
     "output_type": "stream",
     "text": [
      "Column name - A9_Score\n",
      "p value is 8.412545910399114e-12\n",
      "Both variables are Dependent (reject H0)\n"
     ]
    },
    {
     "data": {
      "image/png": "[encoded data removed]",
      "text/plain": [
       "<Figure size 640x480 with 1 Axes>"
      ]
     },
     "metadata": {},
     "output_type": "display_data"
    },
    {
     "name": "stdout",
     "output_type": "stream",
     "text": [
      "Column name - A10_Score\n",
      "p value is 9.013701891058173e-08\n",
      "Both variables are Dependent (reject H0)\n"
     ]
    },
    {
     "data": {
      "image/png": "[encoded data removed]",
      "text/plain": [
       "<Figure size 640x480 with 1 Axes>"
      ]
     },
     "metadata": {},
     "output_type": "display_data"
    }
   ],
   "source": [
    "for c in cat_cols:\n",
    "    cat_col_test(train_df, c, 'Class/ASD')"
   ]
  },
  {
   "cell_type": "code",
   "execution_count": 704,
   "id": "fdd74af8-39c6-40e6-adc5-5cfcd80d1dd5",
   "metadata": {},
   "outputs": [
    {
     "data": {
      "text/html": [
       "<div>\n",
       "<style scoped>\n",
       "    .dataframe tbody tr th:only-of-type {\n",
       "        vertical-align: middle;\n",
       "    }\n",
       "\n",
       "    .dataframe tbody tr th {\n",
       "        vertical-align: top;\n",
       "    }\n",
       "\n",
       "    .dataframe thead th {\n",
       "        text-align: right;\n",
       "    }\n",
       "</style>\n",
       "<table border=\"1\" class=\"dataframe\">\n",
       "  <thead>\n",
       "    <tr style=\"text-align: right;\">\n",
       "      <th></th>\n",
       "      <th>ID</th>\n",
       "      <th>A1_Score</th>\n",
       "      <th>A2_Score</th>\n",
       "      <th>A3_Score</th>\n",
       "      <th>A4_Score</th>\n",
       "      <th>A5_Score</th>\n",
       "      <th>A6_Score</th>\n",
       "      <th>A7_Score</th>\n",
       "      <th>A8_Score</th>\n",
       "      <th>A9_Score</th>\n",
       "      <th>...</th>\n",
       "      <th>age</th>\n",
       "      <th>gender</th>\n",
       "      <th>ethnicity</th>\n",
       "      <th>jaundice</th>\n",
       "      <th>austim</th>\n",
       "      <th>contry_of_res</th>\n",
       "      <th>used_app_before</th>\n",
       "      <th>result</th>\n",
       "      <th>relation</th>\n",
       "      <th>Class/ASD</th>\n",
       "    </tr>\n",
       "  </thead>\n",
       "  <tbody>\n",
       "    <tr>\n",
       "      <th>0</th>\n",
       "      <td>1</td>\n",
       "      <td>1</td>\n",
       "      <td>0</td>\n",
       "      <td>1</td>\n",
       "      <td>0</td>\n",
       "      <td>1</td>\n",
       "      <td>0</td>\n",
       "      <td>1</td>\n",
       "      <td>0</td>\n",
       "      <td>1</td>\n",
       "      <td>...</td>\n",
       "      <td>38.172746</td>\n",
       "      <td>f</td>\n",
       "      <td>others</td>\n",
       "      <td>no</td>\n",
       "      <td>no</td>\n",
       "      <td>Austria</td>\n",
       "      <td>no</td>\n",
       "      <td>6.351166</td>\n",
       "      <td>Self</td>\n",
       "      <td>0</td>\n",
       "    </tr>\n",
       "    <tr>\n",
       "      <th>3</th>\n",
       "      <td>4</td>\n",
       "      <td>0</td>\n",
       "      <td>0</td>\n",
       "      <td>0</td>\n",
       "      <td>0</td>\n",
       "      <td>0</td>\n",
       "      <td>0</td>\n",
       "      <td>0</td>\n",
       "      <td>0</td>\n",
       "      <td>0</td>\n",
       "      <td>...</td>\n",
       "      <td>23.561927</td>\n",
       "      <td>f</td>\n",
       "      <td>others</td>\n",
       "      <td>no</td>\n",
       "      <td>no</td>\n",
       "      <td>United States</td>\n",
       "      <td>no</td>\n",
       "      <td>2.276617</td>\n",
       "      <td>Self</td>\n",
       "      <td>0</td>\n",
       "    </tr>\n",
       "    <tr>\n",
       "      <th>6</th>\n",
       "      <td>7</td>\n",
       "      <td>1</td>\n",
       "      <td>0</td>\n",
       "      <td>0</td>\n",
       "      <td>0</td>\n",
       "      <td>0</td>\n",
       "      <td>0</td>\n",
       "      <td>1</td>\n",
       "      <td>1</td>\n",
       "      <td>1</td>\n",
       "      <td>...</td>\n",
       "      <td>28.427971</td>\n",
       "      <td>f</td>\n",
       "      <td>Pasifika</td>\n",
       "      <td>no</td>\n",
       "      <td>no</td>\n",
       "      <td>United Kingdom</td>\n",
       "      <td>no</td>\n",
       "      <td>7.984569</td>\n",
       "      <td>Self</td>\n",
       "      <td>0</td>\n",
       "    </tr>\n",
       "    <tr>\n",
       "      <th>9</th>\n",
       "      <td>10</td>\n",
       "      <td>0</td>\n",
       "      <td>0</td>\n",
       "      <td>0</td>\n",
       "      <td>0</td>\n",
       "      <td>0</td>\n",
       "      <td>0</td>\n",
       "      <td>0</td>\n",
       "      <td>1</td>\n",
       "      <td>0</td>\n",
       "      <td>...</td>\n",
       "      <td>24.167945</td>\n",
       "      <td>f</td>\n",
       "      <td>Others</td>\n",
       "      <td>yes</td>\n",
       "      <td>no</td>\n",
       "      <td>New Zealand</td>\n",
       "      <td>no</td>\n",
       "      <td>14.922570</td>\n",
       "      <td>Self</td>\n",
       "      <td>0</td>\n",
       "    </tr>\n",
       "    <tr>\n",
       "      <th>10</th>\n",
       "      <td>11</td>\n",
       "      <td>1</td>\n",
       "      <td>1</td>\n",
       "      <td>1</td>\n",
       "      <td>1</td>\n",
       "      <td>1</td>\n",
       "      <td>1</td>\n",
       "      <td>1</td>\n",
       "      <td>0</td>\n",
       "      <td>1</td>\n",
       "      <td>...</td>\n",
       "      <td>21.497031</td>\n",
       "      <td>f</td>\n",
       "      <td>others</td>\n",
       "      <td>no</td>\n",
       "      <td>no</td>\n",
       "      <td>Canada</td>\n",
       "      <td>no</td>\n",
       "      <td>13.839255</td>\n",
       "      <td>Self</td>\n",
       "      <td>0</td>\n",
       "    </tr>\n",
       "  </tbody>\n",
       "</table>\n",
       "<p>5 rows × 21 columns</p>\n",
       "</div>"
      ],
      "text/plain": [
       "    ID  A1_Score  A2_Score  A3_Score  A4_Score  A5_Score  A6_Score  A7_Score  \\\n",
       "0    1         1         0         1         0         1         0         1   \n",
       "3    4         0         0         0         0         0         0         0   \n",
       "6    7         1         0         0         0         0         0         1   \n",
       "9   10         0         0         0         0         0         0         0   \n",
       "10  11         1         1         1         1         1         1         1   \n",
       "\n",
       "    A8_Score  A9_Score  ...        age  gender ethnicity jaundice austim  \\\n",
       "0          0         1  ...  38.172746       f    others       no     no   \n",
       "3          0         0  ...  23.561927       f    others       no     no   \n",
       "6          1         1  ...  28.427971       f  Pasifika       no     no   \n",
       "9          1         0  ...  24.167945       f    Others      yes     no   \n",
       "10         0         1  ...  21.497031       f    others       no     no   \n",
       "\n",
       "     contry_of_res used_app_before     result  relation Class/ASD  \n",
       "0          Austria              no   6.351166      Self         0  \n",
       "3    United States              no   2.276617      Self         0  \n",
       "6   United Kingdom              no   7.984569      Self         0  \n",
       "9      New Zealand              no  14.922570      Self         0  \n",
       "10          Canada              no  13.839255      Self         0  \n",
       "\n",
       "[5 rows x 21 columns]"
      ]
     },
     "execution_count": 704,
     "metadata": {},
     "output_type": "execute_result"
    }
   ],
   "source": [
    "train_df.head()\n"
   ]
  },
  {
   "cell_type": "code",
   "execution_count": null,
   "id": "89b8bfed-78aa-4f80-a28c-4fa14b87b57b",
   "metadata": {},
   "outputs": [],
   "source": []
  },
  {
   "cell_type": "code",
   "execution_count": 705,
   "id": "7fbd84a4-f149-48e8-b760-2a901e05fe3e",
   "metadata": {},
   "outputs": [
    {
     "name": "stderr",
     "output_type": "stream",
     "text": [
      "C:\\Users\\patel\\AppData\\Local\\Temp\\ipykernel_42504\\3971968527.py:6: SettingWithCopyWarning: \n",
      "A value is trying to be set on a copy of a slice from a DataFrame\n",
      "\n",
      "See the caveats in the documentation: https://pandas.pydata.org/pandas-docs/stable/user_guide/indexing.html#returning-a-view-versus-a-copy\n",
      "  test_df.drop(['used_app_before','gender'],axis=1,inplace=True)\n"
     ]
    }
   ],
   "source": [
    "#Dropping #use_app_before & gender & relation are independant\n",
    "#train_df.drop(['used_app_before','gender', 'relation'],axis=1,inplace=True)\n",
    "#test_df.drop(['used_app_before','gender', 'relation'],axis=1,inplace=True)\n",
    "\n",
    "train_df.drop(['used_app_before','gender'],axis=1,inplace=True)\n",
    "test_df.drop(['used_app_before','gender'],axis=1,inplace=True)"
   ]
  },
  {
   "cell_type": "code",
   "execution_count": 706,
   "id": "7a6e251c-1d2e-4b61-a33d-a5a436106dff",
   "metadata": {},
   "outputs": [
    {
     "data": {
      "text/plain": [
       "Index(['ID', 'A1_Score', 'A2_Score', 'A3_Score', 'A4_Score', 'A5_Score',\n",
       "       'A6_Score', 'A7_Score', 'A8_Score', 'A9_Score', 'A10_Score', 'age',\n",
       "       'ethnicity', 'jaundice', 'austim', 'contry_of_res', 'result',\n",
       "       'relation', 'Class/ASD'],\n",
       "      dtype='object')"
      ]
     },
     "execution_count": 706,
     "metadata": {},
     "output_type": "execute_result"
    }
   ],
   "source": [
    "train_df.columns"
   ]
  },
  {
   "cell_type": "code",
   "execution_count": 707,
   "id": "7c837d32-1e73-446f-9a07-22e1a0e0b4e2",
   "metadata": {},
   "outputs": [
    {
     "name": "stderr",
     "output_type": "stream",
     "text": [
      "C:\\Users\\patel\\AppData\\Local\\Temp\\ipykernel_42504\\183779996.py:4: SettingWithCopyWarning: \n",
      "A value is trying to be set on a copy of a slice from a DataFrame.\n",
      "Try using .loc[row_indexer,col_indexer] = value instead\n",
      "\n",
      "See the caveats in the documentation: https://pandas.pydata.org/pandas-docs/stable/user_guide/indexing.html#returning-a-view-versus-a-copy\n",
      "  test_df['jaundice'] = np.where(test_df['jaundice'] == 'yes',1,0)\n",
      "C:\\Users\\patel\\AppData\\Local\\Temp\\ipykernel_42504\\183779996.py:7: SettingWithCopyWarning: \n",
      "A value is trying to be set on a copy of a slice from a DataFrame.\n",
      "Try using .loc[row_indexer,col_indexer] = value instead\n",
      "\n",
      "See the caveats in the documentation: https://pandas.pydata.org/pandas-docs/stable/user_guide/indexing.html#returning-a-view-versus-a-copy\n",
      "  test_df['austim'] = np.where(test_df['austim'] == 'yes',1,0)\n"
     ]
    }
   ],
   "source": [
    "# One hot encoding: categorical variables into numerical format\n",
    "# np.where for \"yes\"= 1, \"no\"=0 for columns \"jaundice\" and \"austim\"\n",
    "train_df['jaundice'] = np.where(train_df['jaundice'] == 'yes',1,0)\n",
    "test_df['jaundice'] = np.where(test_df['jaundice'] == 'yes',1,0)\n",
    "\n",
    "train_df['austim'] = np.where(train_df['austim'] == 'yes',1,0)\n",
    "test_df['austim'] = np.where(test_df['austim'] == 'yes',1,0)"
   ]
  },
  {
   "cell_type": "code",
   "execution_count": 708,
   "id": "ac18d291-5185-47ce-b6d3-441adfd000d3",
   "metadata": {},
   "outputs": [
    {
     "data": {
      "text/plain": [
       "{'White-European': 1,\n",
       " 'others': 2,\n",
       " 'Asian': 3,\n",
       " 'Middle Eastern ': 4,\n",
       " 'Black': 5,\n",
       " 'South Asian': 6,\n",
       " 'Pasifika': 7,\n",
       " 'Others': 8,\n",
       " 'Latino': 9,\n",
       " 'Hispanic': 10,\n",
       " 'Turkish': 11}"
      ]
     },
     "execution_count": 708,
     "metadata": {},
     "output_type": "execute_result"
    }
   ],
   "source": [
    "# Label encoding based on frequency values of the categorical variable\n",
    "#column: ethnicity\n",
    "dict_ethnicity = dict(zip(train_df['ethnicity'].value_counts().index, range(1,train_df['ethnicity'].nunique()+1)))\n",
    "dict_ethnicity"
   ]
  },
  {
   "cell_type": "code",
   "execution_count": 709,
   "id": "f9b979be-cc24-435a-8a0e-8fdd4751f0a7",
   "metadata": {},
   "outputs": [
    {
     "name": "stderr",
     "output_type": "stream",
     "text": [
      "C:\\Users\\patel\\AppData\\Local\\Temp\\ipykernel_42504\\3790230627.py:3: SettingWithCopyWarning: \n",
      "A value is trying to be set on a copy of a slice from a DataFrame.\n",
      "Try using .loc[row_indexer,col_indexer] = value instead\n",
      "\n",
      "See the caveats in the documentation: https://pandas.pydata.org/pandas-docs/stable/user_guide/indexing.html#returning-a-view-versus-a-copy\n",
      "  test_df['ethnicity'] = test_df['ethnicity'].map(dict_ethnicity)\n"
     ]
    }
   ],
   "source": [
    "# Applying label encoding dictionary to data\n",
    "train_df['ethnicity'] = train_df['ethnicity'].map(dict_ethnicity)\n",
    "test_df['ethnicity'] = test_df['ethnicity'].map(dict_ethnicity)"
   ]
  },
  {
   "cell_type": "code",
   "execution_count": 710,
   "id": "61c6d051-6d27-4a3b-841c-dcdcb05fdddc",
   "metadata": {},
   "outputs": [
    {
     "name": "stderr",
     "output_type": "stream",
     "text": [
      "C:\\Users\\patel\\AppData\\Local\\Temp\\ipykernel_42504\\1357501153.py:5: SettingWithCopyWarning: \n",
      "A value is trying to be set on a copy of a slice from a DataFrame.\n",
      "Try using .loc[row_indexer,col_indexer] = value instead\n",
      "\n",
      "See the caveats in the documentation: https://pandas.pydata.org/pandas-docs/stable/user_guide/indexing.html#returning-a-view-versus-a-copy\n",
      "  test_df[col_name] = test_df[col_name].map(dict_country)\n"
     ]
    }
   ],
   "source": [
    "#label encoding column country_of_res\n",
    "col_name = 'contry_of_res'\n",
    "dict_country = dict(zip(train_df[col_name].value_counts().index, range(1,train_df[col_name].nunique()+1)))\n",
    "train_df[col_name] = train_df[col_name].map(dict_country)\n",
    "test_df[col_name] = test_df[col_name].map(dict_country)"
   ]
  },
  {
   "cell_type": "code",
   "execution_count": 711,
   "id": "92a3ddd7-08dd-4b14-b6ed-e9ef5b1bb9b9",
   "metadata": {},
   "outputs": [
    {
     "name": "stderr",
     "output_type": "stream",
     "text": [
      "C:\\Users\\patel\\AppData\\Local\\Temp\\ipykernel_42504\\1946382513.py:4: SettingWithCopyWarning: \n",
      "A value is trying to be set on a copy of a slice from a DataFrame.\n",
      "Try using .loc[row_indexer,col_indexer] = value instead\n",
      "\n",
      "See the caveats in the documentation: https://pandas.pydata.org/pandas-docs/stable/user_guide/indexing.html#returning-a-view-versus-a-copy\n",
      "  test_df[col_name] = test_df[col_name].map(dict_relation)\n"
     ]
    }
   ],
   "source": [
    "col_name = 'relation'\n",
    "dict_relation = dict(zip(train_df[col_name].value_counts().index, range(1,train_df[col_name].nunique()+1)))\n",
    "train_df[col_name] = train_df[col_name].map(dict_relation)\n",
    "test_df[col_name] = test_df[col_name].map(dict_relation)"
   ]
  },
  {
   "cell_type": "code",
   "execution_count": 713,
   "id": "d91b4c04-2547-49cc-9897-214024e834ff",
   "metadata": {},
   "outputs": [
    {
     "data": {
      "text/html": [
       "<div>\n",
       "<style scoped>\n",
       "    .dataframe tbody tr th:only-of-type {\n",
       "        vertical-align: middle;\n",
       "    }\n",
       "\n",
       "    .dataframe tbody tr th {\n",
       "        vertical-align: top;\n",
       "    }\n",
       "\n",
       "    .dataframe thead th {\n",
       "        text-align: right;\n",
       "    }\n",
       "</style>\n",
       "<table border=\"1\" class=\"dataframe\">\n",
       "  <thead>\n",
       "    <tr style=\"text-align: right;\">\n",
       "      <th></th>\n",
       "      <th>ID</th>\n",
       "      <th>A1_Score</th>\n",
       "      <th>A2_Score</th>\n",
       "      <th>A3_Score</th>\n",
       "      <th>A4_Score</th>\n",
       "      <th>A5_Score</th>\n",
       "      <th>A6_Score</th>\n",
       "      <th>A7_Score</th>\n",
       "      <th>A8_Score</th>\n",
       "      <th>A9_Score</th>\n",
       "      <th>A10_Score</th>\n",
       "      <th>age</th>\n",
       "      <th>ethnicity</th>\n",
       "      <th>jaundice</th>\n",
       "      <th>austim</th>\n",
       "      <th>contry_of_res</th>\n",
       "      <th>result</th>\n",
       "      <th>relation</th>\n",
       "      <th>Class/ASD</th>\n",
       "    </tr>\n",
       "  </thead>\n",
       "  <tbody>\n",
       "    <tr>\n",
       "      <th>0</th>\n",
       "      <td>1</td>\n",
       "      <td>1</td>\n",
       "      <td>0</td>\n",
       "      <td>1</td>\n",
       "      <td>0</td>\n",
       "      <td>1</td>\n",
       "      <td>0</td>\n",
       "      <td>1</td>\n",
       "      <td>0</td>\n",
       "      <td>1</td>\n",
       "      <td>1</td>\n",
       "      <td>38.172746</td>\n",
       "      <td>2</td>\n",
       "      <td>0</td>\n",
       "      <td>0</td>\n",
       "      <td>11</td>\n",
       "      <td>6.351166</td>\n",
       "      <td>1</td>\n",
       "      <td>0</td>\n",
       "    </tr>\n",
       "    <tr>\n",
       "      <th>3</th>\n",
       "      <td>4</td>\n",
       "      <td>0</td>\n",
       "      <td>0</td>\n",
       "      <td>0</td>\n",
       "      <td>0</td>\n",
       "      <td>0</td>\n",
       "      <td>0</td>\n",
       "      <td>0</td>\n",
       "      <td>0</td>\n",
       "      <td>0</td>\n",
       "      <td>0</td>\n",
       "      <td>23.561927</td>\n",
       "      <td>2</td>\n",
       "      <td>0</td>\n",
       "      <td>0</td>\n",
       "      <td>1</td>\n",
       "      <td>2.276617</td>\n",
       "      <td>1</td>\n",
       "      <td>0</td>\n",
       "    </tr>\n",
       "    <tr>\n",
       "      <th>6</th>\n",
       "      <td>7</td>\n",
       "      <td>1</td>\n",
       "      <td>0</td>\n",
       "      <td>0</td>\n",
       "      <td>0</td>\n",
       "      <td>0</td>\n",
       "      <td>0</td>\n",
       "      <td>1</td>\n",
       "      <td>1</td>\n",
       "      <td>1</td>\n",
       "      <td>0</td>\n",
       "      <td>28.427971</td>\n",
       "      <td>7</td>\n",
       "      <td>0</td>\n",
       "      <td>0</td>\n",
       "      <td>3</td>\n",
       "      <td>7.984569</td>\n",
       "      <td>1</td>\n",
       "      <td>0</td>\n",
       "    </tr>\n",
       "    <tr>\n",
       "      <th>9</th>\n",
       "      <td>10</td>\n",
       "      <td>0</td>\n",
       "      <td>0</td>\n",
       "      <td>0</td>\n",
       "      <td>0</td>\n",
       "      <td>0</td>\n",
       "      <td>0</td>\n",
       "      <td>0</td>\n",
       "      <td>1</td>\n",
       "      <td>0</td>\n",
       "      <td>1</td>\n",
       "      <td>24.167945</td>\n",
       "      <td>8</td>\n",
       "      <td>1</td>\n",
       "      <td>0</td>\n",
       "      <td>4</td>\n",
       "      <td>14.922570</td>\n",
       "      <td>1</td>\n",
       "      <td>0</td>\n",
       "    </tr>\n",
       "    <tr>\n",
       "      <th>10</th>\n",
       "      <td>11</td>\n",
       "      <td>1</td>\n",
       "      <td>1</td>\n",
       "      <td>1</td>\n",
       "      <td>1</td>\n",
       "      <td>1</td>\n",
       "      <td>1</td>\n",
       "      <td>1</td>\n",
       "      <td>0</td>\n",
       "      <td>1</td>\n",
       "      <td>1</td>\n",
       "      <td>21.497031</td>\n",
       "      <td>2</td>\n",
       "      <td>0</td>\n",
       "      <td>0</td>\n",
       "      <td>7</td>\n",
       "      <td>13.839255</td>\n",
       "      <td>1</td>\n",
       "      <td>0</td>\n",
       "    </tr>\n",
       "  </tbody>\n",
       "</table>\n",
       "</div>"
      ],
      "text/plain": [
       "    ID  A1_Score  A2_Score  A3_Score  A4_Score  A5_Score  A6_Score  A7_Score  \\\n",
       "0    1         1         0         1         0         1         0         1   \n",
       "3    4         0         0         0         0         0         0         0   \n",
       "6    7         1         0         0         0         0         0         1   \n",
       "9   10         0         0         0         0         0         0         0   \n",
       "10  11         1         1         1         1         1         1         1   \n",
       "\n",
       "    A8_Score  A9_Score  A10_Score        age  ethnicity  jaundice  austim  \\\n",
       "0          0         1          1  38.172746          2         0       0   \n",
       "3          0         0          0  23.561927          2         0       0   \n",
       "6          1         1          0  28.427971          7         0       0   \n",
       "9          1         0          1  24.167945          8         1       0   \n",
       "10         0         1          1  21.497031          2         0       0   \n",
       "\n",
       "    contry_of_res     result  relation  Class/ASD  \n",
       "0              11   6.351166         1          0  \n",
       "3               1   2.276617         1          0  \n",
       "6               3   7.984569         1          0  \n",
       "9               4  14.922570         1          0  \n",
       "10              7  13.839255         1          0  "
      ]
     },
     "execution_count": 713,
     "metadata": {},
     "output_type": "execute_result"
    }
   ],
   "source": [
    "train_df.head()"
   ]
  },
  {
   "cell_type": "code",
   "execution_count": 714,
   "id": "a35dca4b-43eb-4aef-8137-eec12e25b23e",
   "metadata": {},
   "outputs": [
    {
     "data": {
      "text/html": [
       "<div>\n",
       "<style scoped>\n",
       "    .dataframe tbody tr th:only-of-type {\n",
       "        vertical-align: middle;\n",
       "    }\n",
       "\n",
       "    .dataframe tbody tr th {\n",
       "        vertical-align: top;\n",
       "    }\n",
       "\n",
       "    .dataframe thead th {\n",
       "        text-align: right;\n",
       "    }\n",
       "</style>\n",
       "<table border=\"1\" class=\"dataframe\">\n",
       "  <thead>\n",
       "    <tr style=\"text-align: right;\">\n",
       "      <th></th>\n",
       "      <th>ID</th>\n",
       "      <th>A1_Score</th>\n",
       "      <th>A2_Score</th>\n",
       "      <th>A3_Score</th>\n",
       "      <th>A4_Score</th>\n",
       "      <th>A5_Score</th>\n",
       "      <th>A6_Score</th>\n",
       "      <th>A7_Score</th>\n",
       "      <th>A8_Score</th>\n",
       "      <th>A9_Score</th>\n",
       "      <th>A10_Score</th>\n",
       "      <th>age</th>\n",
       "      <th>ethnicity</th>\n",
       "      <th>jaundice</th>\n",
       "      <th>austim</th>\n",
       "      <th>contry_of_res</th>\n",
       "      <th>result</th>\n",
       "      <th>relation</th>\n",
       "    </tr>\n",
       "  </thead>\n",
       "  <tbody>\n",
       "    <tr>\n",
       "      <th>5</th>\n",
       "      <td>6</td>\n",
       "      <td>0</td>\n",
       "      <td>0</td>\n",
       "      <td>0</td>\n",
       "      <td>0</td>\n",
       "      <td>0</td>\n",
       "      <td>0</td>\n",
       "      <td>1</td>\n",
       "      <td>0</td>\n",
       "      <td>0</td>\n",
       "      <td>0</td>\n",
       "      <td>31.258965</td>\n",
       "      <td>2</td>\n",
       "      <td>1</td>\n",
       "      <td>0</td>\n",
       "      <td>8.0</td>\n",
       "      <td>2.676620</td>\n",
       "      <td>1</td>\n",
       "    </tr>\n",
       "    <tr>\n",
       "      <th>7</th>\n",
       "      <td>8</td>\n",
       "      <td>1</td>\n",
       "      <td>1</td>\n",
       "      <td>1</td>\n",
       "      <td>0</td>\n",
       "      <td>1</td>\n",
       "      <td>1</td>\n",
       "      <td>0</td>\n",
       "      <td>1</td>\n",
       "      <td>0</td>\n",
       "      <td>1</td>\n",
       "      <td>24.606191</td>\n",
       "      <td>2</td>\n",
       "      <td>0</td>\n",
       "      <td>0</td>\n",
       "      <td>2.0</td>\n",
       "      <td>1.501130</td>\n",
       "      <td>1</td>\n",
       "    </tr>\n",
       "    <tr>\n",
       "      <th>9</th>\n",
       "      <td>10</td>\n",
       "      <td>1</td>\n",
       "      <td>0</td>\n",
       "      <td>0</td>\n",
       "      <td>0</td>\n",
       "      <td>0</td>\n",
       "      <td>0</td>\n",
       "      <td>0</td>\n",
       "      <td>0</td>\n",
       "      <td>0</td>\n",
       "      <td>0</td>\n",
       "      <td>24.167762</td>\n",
       "      <td>4</td>\n",
       "      <td>1</td>\n",
       "      <td>0</td>\n",
       "      <td>NaN</td>\n",
       "      <td>8.449266</td>\n",
       "      <td>1</td>\n",
       "    </tr>\n",
       "    <tr>\n",
       "      <th>11</th>\n",
       "      <td>12</td>\n",
       "      <td>0</td>\n",
       "      <td>1</td>\n",
       "      <td>0</td>\n",
       "      <td>1</td>\n",
       "      <td>1</td>\n",
       "      <td>0</td>\n",
       "      <td>0</td>\n",
       "      <td>0</td>\n",
       "      <td>1</td>\n",
       "      <td>0</td>\n",
       "      <td>19.825266</td>\n",
       "      <td>1</td>\n",
       "      <td>0</td>\n",
       "      <td>0</td>\n",
       "      <td>3.0</td>\n",
       "      <td>12.527543</td>\n",
       "      <td>3</td>\n",
       "    </tr>\n",
       "    <tr>\n",
       "      <th>12</th>\n",
       "      <td>13</td>\n",
       "      <td>0</td>\n",
       "      <td>1</td>\n",
       "      <td>0</td>\n",
       "      <td>0</td>\n",
       "      <td>0</td>\n",
       "      <td>0</td>\n",
       "      <td>0</td>\n",
       "      <td>1</td>\n",
       "      <td>0</td>\n",
       "      <td>0</td>\n",
       "      <td>55.063719</td>\n",
       "      <td>3</td>\n",
       "      <td>0</td>\n",
       "      <td>0</td>\n",
       "      <td>5.0</td>\n",
       "      <td>12.022892</td>\n",
       "      <td>1</td>\n",
       "    </tr>\n",
       "  </tbody>\n",
       "</table>\n",
       "</div>"
      ],
      "text/plain": [
       "    ID  A1_Score  A2_Score  A3_Score  A4_Score  A5_Score  A6_Score  A7_Score  \\\n",
       "5    6         0         0         0         0         0         0         1   \n",
       "7    8         1         1         1         0         1         1         0   \n",
       "9   10         1         0         0         0         0         0         0   \n",
       "11  12         0         1         0         1         1         0         0   \n",
       "12  13         0         1         0         0         0         0         0   \n",
       "\n",
       "    A8_Score  A9_Score  A10_Score        age  ethnicity  jaundice  austim  \\\n",
       "5          0         0          0  31.258965          2         1       0   \n",
       "7          1         0          1  24.606191          2         0       0   \n",
       "9          0         0          0  24.167762          4         1       0   \n",
       "11         0         1          0  19.825266          1         0       0   \n",
       "12         1         0          0  55.063719          3         0       0   \n",
       "\n",
       "    contry_of_res     result  relation  \n",
       "5             8.0   2.676620         1  \n",
       "7             2.0   1.501130         1  \n",
       "9             NaN   8.449266         1  \n",
       "11            3.0  12.527543         3  \n",
       "12            5.0  12.022892         1  "
      ]
     },
     "execution_count": 714,
     "metadata": {},
     "output_type": "execute_result"
    }
   ],
   "source": [
    "test_df.head()"
   ]
  },
  {
   "cell_type": "code",
   "execution_count": 715,
   "id": "e2faef12-5902-42f3-9ab0-e1fbe2a97112",
   "metadata": {},
   "outputs": [
    {
     "data": {
      "text/plain": [
       "ID               0\n",
       "A1_Score         0\n",
       "A2_Score         0\n",
       "A3_Score         0\n",
       "A4_Score         0\n",
       "A5_Score         0\n",
       "A6_Score         0\n",
       "A7_Score         0\n",
       "A8_Score         0\n",
       "A9_Score         0\n",
       "A10_Score        0\n",
       "age              0\n",
       "ethnicity        0\n",
       "jaundice         0\n",
       "austim           0\n",
       "contry_of_res    0\n",
       "result           0\n",
       "relation         0\n",
       "Class/ASD        0\n",
       "dtype: int64"
      ]
     },
     "execution_count": 715,
     "metadata": {},
     "output_type": "execute_result"
    }
   ],
   "source": [
    "#Checking for missing value\n",
    "train_df.isnull().sum()"
   ]
  },
  {
   "cell_type": "code",
   "execution_count": 716,
   "id": "7a92fe9a-7188-47ed-a200-be7375dd21c9",
   "metadata": {},
   "outputs": [
    {
     "data": {
      "text/plain": [
       "ID               0\n",
       "A1_Score         0\n",
       "A2_Score         0\n",
       "A3_Score         0\n",
       "A4_Score         0\n",
       "A5_Score         0\n",
       "A6_Score         0\n",
       "A7_Score         0\n",
       "A8_Score         0\n",
       "A9_Score         0\n",
       "A10_Score        0\n",
       "age              0\n",
       "ethnicity        0\n",
       "jaundice         0\n",
       "austim           0\n",
       "contry_of_res    4\n",
       "result           0\n",
       "relation         0\n",
       "dtype: int64"
      ]
     },
     "execution_count": 716,
     "metadata": {},
     "output_type": "execute_result"
    }
   ],
   "source": [
    "test_df.isnull().sum()"
   ]
  },
  {
   "cell_type": "code",
   "execution_count": 717,
   "id": "16818472-0d5a-41aa-96eb-5f135357384f",
   "metadata": {},
   "outputs": [
    {
     "name": "stderr",
     "output_type": "stream",
     "text": [
      "C:\\Users\\patel\\AppData\\Local\\Temp\\ipykernel_42504\\3063115462.py:2: SettingWithCopyWarning: \n",
      "A value is trying to be set on a copy of a slice from a DataFrame\n",
      "\n",
      "See the caveats in the documentation: https://pandas.pydata.org/pandas-docs/stable/user_guide/indexing.html#returning-a-view-versus-a-copy\n",
      "  test_df['contry_of_res'].fillna(1.0,inplace=True)\n"
     ]
    }
   ],
   "source": [
    "# filling NaN values in country_of_res\n",
    "test_df['contry_of_res'].fillna(1.0,inplace=True)"
   ]
  },
  {
   "cell_type": "markdown",
   "id": "242986e8-a9de-4ad9-9531-ad6e4f634417",
   "metadata": {},
   "source": [
    "### Efficiency Evaluation of Models\n",
    "- More neural network additions were not considered, as the MLPClassifier was constantly overfitting"
   ]
  },
  {
   "cell_type": "code",
   "execution_count": 718,
   "id": "97085af5-8c8d-4c5a-9697-d6c224e15e9f",
   "metadata": {},
   "outputs": [
    {
     "data": {
      "text/plain": [
       "((270, 17), (270,))"
      ]
     },
     "execution_count": 718,
     "metadata": {},
     "output_type": "execute_result"
    }
   ],
   "source": [
    "#seperating feature and traget variable\n",
    "X = train_df.drop(['ID','Class/ASD'],axis=1) #feature variable\n",
    "y = train_df['Class/ASD'] #target variable\n",
    "\n",
    "X.shape, y.shape"
   ]
  },
  {
   "cell_type": "code",
   "execution_count": 719,
   "id": "e534cac7-06a8-44b1-8ed2-10f43d413131",
   "metadata": {},
   "outputs": [
    {
     "name": "stdout",
     "output_type": "stream",
     "text": [
      "y is correctly formatted.\n"
     ]
    }
   ],
   "source": [
    "# Ensure y is 1D\n",
    "if len(y.shape) > 1 and y.shape[1] > 1:\n",
    "    print(\"y should be a 1D array.\")\n",
    "else:\n",
    "    print(\"y is correctly formatted.\")"
   ]
  },
  {
   "cell_type": "code",
   "execution_count": 720,
   "id": "f6dfce17-03e6-4c6e-b3bc-40e446ec6f8a",
   "metadata": {},
   "outputs": [],
   "source": [
    "from sklearn.linear_model import LogisticRegression\n",
    "from sklearn.svm import SVC\n",
    "from sklearn.naive_bayes import GaussianNB\n",
    "from sklearn.naive_bayes import MultinomialNB\n",
    "from sklearn.linear_model import SGDClassifier\n",
    "from sklearn.neighbors import KNeighborsClassifier\n",
    "from sklearn.tree import DecisionTreeClassifier\n",
    "from sklearn.ensemble import RandomForestClassifier\n",
    "from sklearn.ensemble import GradientBoostingClassifier\n",
    "from lightgbm import LGBMClassifier\n",
    "from xgboost.sklearn import XGBClassifier\n",
    "from sklearn.neural_network import MLPClassifier\n",
    "from sklearn.model_selection import GridSearchCV"
   ]
  },
  {
   "cell_type": "code",
   "execution_count": 721,
   "id": "30e39677-a2aa-495b-a001-5cf204c1dc12",
   "metadata": {},
   "outputs": [],
   "source": [
    "#Setting random seed\n",
    "seed = 123\n",
    "# Various model initialization\n",
    "model1 = LogisticRegression(max_iter = 500)\n",
    "model2 = SVC(random_state = seed)\n",
    "model3 = GaussianNB()\n",
    "model4 = MLPClassifier(random_state = seed,max_iter=500)\n",
    "model5 = SGDClassifier(random_state = seed)\n",
    "model6 = KNeighborsClassifier()\n",
    "model7 = DecisionTreeClassifier(random_state = seed)\n",
    "model8 = RandomForestClassifier(random_state = seed,class_weight=\"balanced\")\n",
    "model9 = GradientBoostingClassifier(random_state = seed)\n",
    "model10 = LGBMClassifier(random_state = seed)\n",
    "model11 = XGBClassifier(random_state = seed,use_label_encoder=False)"
   ]
  },
  {
   "cell_type": "code",
   "execution_count": null,
   "id": "ad889246-599b-47d4-870e-d59372ea8e01",
   "metadata": {},
   "outputs": [],
   "source": [
    "#optimizing LightGMB due to overfitting warnings with GridSearch\n",
    "\n",
    "#Define the model\n",
    "model = LGBMClassifier(random_state=seed)\n",
    "\n",
    "#Define the parameter grid\n",
    "param_grid = {\n",
    "    'num_leaves': [15, 31, 63],\n",
    "    'max_depth': [3, 5, 7],\n",
    "    'n_estimators': [30, 50, 100],\n",
    "    'learning_rate': [0.01, 0.1, 0.2],\n",
    "    'min_child_samples': [5, 10, 20],\n",
    "    'subsample': [0.6, 0.8, 1.0],\n",
    "    'colsample_bytree': [0.6, 0.8, 1.0]\n",
    "}\n",
    "\n",
    "#Perform Grid Search\n",
    "grid_search = GridSearchCV(estimator=model, param_grid=param_grid, \n",
    "                           scoring='f1', cv=5, n_jobs=-1, verbose=1)\n",
    "\n",
    "#Fit the model\n",
    "grid_search.fit(X, y)\n",
    "\n",
    "#Best parameters and score\n",
    "print(\"Best Parameters:\", grid_search.best_params_)\n",
    "print(\"Best F1 Score:\", grid_search.best_score_)"
   ]
  },
  {
   "cell_type": "code",
   "execution_count": null,
   "id": "cbf79d63-e511-43b0-86d8-382b65d2ddb7",
   "metadata": {},
   "outputs": [],
   "source": [
    "#optimizing MLPClassifier due to overfitting warnings with GridSearch\n",
    "\n",
    "param_grid = {\n",
    "    'hidden_layer_sizes': [(10,), (20,), (50,), (100,)],\n",
    "    'activation': ['identity', 'logistic', 'tanh', 'relu'],\n",
    "    'solver': ['lbfgs', 'sgd', 'adam'],\n",
    "    'alpha': [0.0001, 0.001, 0.01, 0.1],\n",
    "    'learning_rate_init': [0.001, 0.01, 0.1],\n",
    "    'max_iter': [200, 400, 600, 800],\n",
    "    'verbose': [False] \n",
    "    }# Set verbose to False to avoid excessive output\n",
    "\n",
    "#Initialize the MLPClassifier with the seed\n",
    "mlp = MLPClassifier(random_state=seed)\n",
    "\n",
    "#Perform grid search with cross-validation\n",
    "grid_search = GridSearchCV(mlp, param_grid, scoring='f1', cv=5, n_jobs=-1)\n",
    "\n",
    "#Fit the grid search object to the training data\n",
    "grid_search.fit(X, y)\n",
    "\n",
    "#Print the best parameters and the best F1 score\n",
    "print(\"Best Parameters:\", grid_search.best_params_)\n",
    "print(\"Best F1 Score:\", grid_search.best_score_)"
   ]
  },
  {
   "cell_type": "code",
   "execution_count": 722,
   "id": "e2c704ce-2d99-43c9-8d7e-4d2ed7dc3a53",
   "metadata": {},
   "outputs": [],
   "source": [
    "#After optimizing hyperparameters for models which were overfitting\n",
    "\n",
    "#Setting random seed\n",
    "seed = 123\n",
    "# Various model initialization after optimizing models with overfitting warnings/ characteristics\n",
    "model1 = LogisticRegression(max_iter = 500, C=0.5)\n",
    "model2 = SVC(random_state = seed, C=0.5, gamma='scale')\n",
    "model3 = GaussianNB(var_smoothing=1e-9)\n",
    "model4 = MLPClassifier(random_state=seed, activation='relu', alpha=0.1, hidden_layer_sizes= (10,), max_iter=400, learning_rate_init=0.001, solver='lbfgs', verbose=False)\n",
    "model5 = SGDClassifier(random_state = seed, alpha=0.01)\n",
    "model6 = KNeighborsClassifier(n_neighbors=3)\n",
    "model7 = DecisionTreeClassifier(random_state = seed, max_depth=3)\n",
    "model8 = RandomForestClassifier(random_state = seed,class_weight=\"balanced\", n_estimators=50, max_depth=5)\n",
    "model9 = GradientBoostingClassifier(random_state = seed, n_estimators=50, learning_rate= 0.05, max_depth=3)\n",
    "model10 = LGBMClassifier(random_state = seed, num_leaves=15, max_depth=3, n_estimators=30, learning_rate=0.1, class_weight='balanced', min_child_samples=10, subsample=0.6, colsample_bytree=0.6, verbose=-1, reg_alpha=0.1)\n",
    "model11 = XGBClassifier(random_state = seed, n_estimators=50, max_depth=3, learning_rate=0.05)"
   ]
  },
  {
   "cell_type": "code",
   "execution_count": 723,
   "id": "30016353-a767-4e95-bb4e-007104ee49f0",
   "metadata": {},
   "outputs": [
    {
     "name": "stdout",
     "output_type": "stream",
     "text": [
      "For no of trees 1 - 0.86553911205074\n",
      "For no of trees 2 - 0.7835095137420719\n",
      "For no of trees 3 - 0.8792811839323467\n",
      "For no of trees 4 - 0.8164904862579281\n",
      "For no of trees 5 - 0.7363636363636363\n",
      "For no of trees 6 - 0.7769556025369979\n",
      "For no of trees 7 - 0.8887949260042284\n",
      "For no of trees 8 - 0.8636363636363636\n",
      "For no of trees 9 - 0.8835095137420719\n",
      "For no of trees 10 - 0.8701902748414376\n",
      "For model 1 - 0.5497835497835497\n",
      "For model 2 - 0.0\n",
      "For model 3 - 0.6174232804232804\n",
      "For model 4 - 0.4062515262515262\n",
      "For model 5 - 0.4227272727272727\n",
      "For model 6 - 0.5370909090909091\n",
      "For model 7 - 0.5923105590062112\n",
      "For model 8 - 0.4984795321637427\n",
      "For model 9 - 0.5939565063267729\n",
      "For model 10 - 0.5558806106174528\n"
     ]
    }
   ],
   "source": [
    "# Evaluate ML models with cross-validation: ROC AUC and F1-Score\n",
    "from sklearn.model_selection import cross_val_score\n",
    "from sklearn.metrics import roc_auc_score\n",
    "\n",
    "models = [model1, model2, model3, model5, model6, model7,\n",
    "          model8, model9, model10, model11]\n",
    "\n",
    "#model_names = ['Logistic Regression', 'SVC', 'Gaussian NB', 'MLP Classifier',\n",
    "               #'SGD Classifier', 'K-Neighbors Classifier', 'Decision Tree Classifier',\n",
    "               #'Random Forest Classifier', 'Gradient Boosting Classifier',\n",
    "               #'LightGBM Classifier', 'XGBoost Classifier']\n",
    "\n",
    "for m in range(len(models)):\n",
    "    model = models[m]\n",
    "    scores = cross_val_score(model, X, y, scoring='roc_auc', cv=5)\n",
    "    print(f\"For no of trees {m+1} - {np.mean(scores)}\")\n",
    "for i, model in enumerate(models):\n",
    "    scores = cross_val_score(model, X, y, scoring='f1', cv=5)\n",
    "    print(f\"For model {i+1} - {np.mean(scores)}\")"
   ]
  },
  {
   "cell_type": "markdown",
   "id": "df546db7-8423-4bf6-b8b2-13fa2ccb7b7c",
   "metadata": {},
   "source": [
    "### Creating weighted esemble with top 3 algorithms"
   ]
  },
  {
   "cell_type": "code",
   "execution_count": 724,
   "id": "7d54fd88-5a58-4f66-b1dd-4062a381ca95",
   "metadata": {},
   "outputs": [
    {
     "name": "stdout",
     "output_type": "stream",
     "text": [
      "Best Decision Tree parameters: {'criterion': 'entropy', 'max_depth': 10, 'min_samples_split': 10}\n",
      "Best Gradient Boosting parameters: {'learning_rate': 0.1, 'max_depth': 5, 'n_estimators': 100}\n"
     ]
    }
   ],
   "source": [
    "from sklearn.model_selection import StratifiedKFold\n",
    "from sklearn.metrics import roc_auc_score\n",
    "from sklearn.ensemble import RandomForestClassifier\n",
    "from sklearn.linear_model import LogisticRegression\n",
    "from sklearn.metrics import classification_report\n",
    "from sklearn.metrics import roc_auc_score, f1_score\n",
    "\n",
    "# Setting up cross-validation while maintaining percentage of samples for each class labels\n",
    "kfold = 5\n",
    "skf = StratifiedKFold(n_splits=kfold, shuffle = True)\n",
    "\n",
    "# Data preperation\n",
    "X1 = np.array(X)\n",
    "y1 = np.array(y)\n",
    "\n",
    "# Define parameter grids for hyperparameter tuning\n",
    "param_grid_dt = {\n",
    "    'criterion': ['gini', 'entropy'],\n",
    "    'max_depth': [None, 10, 20, 30],\n",
    "    'min_samples_split': [2, 5, 10]\n",
    "}\n",
    "\n",
    "param_grid_gb = {\n",
    "    'n_estimators': [50, 100, 200],\n",
    "    'learning_rate': [0.01, 0.1, 0.2],\n",
    "    'max_depth': [3, 5, 7]\n",
    "}\n",
    "\n",
    "# Create models\n",
    "dt_model = DecisionTreeClassifier(random_state=123)\n",
    "gb_model = GradientBoostingClassifier(random_state=123)\n",
    "\n",
    "# Hyperparameter tuning using GridSearchCV\n",
    "grid_search_dt = GridSearchCV(dt_model, param_grid_dt, cv=5, scoring='roc_auc', n_jobs=-1)\n",
    "grid_search_gb = GridSearchCV(gb_model, param_grid_gb, cv=5, scoring='roc_auc', n_jobs=-1)\n",
    "\n",
    "# Fit the models\n",
    "grid_search_dt.fit(X1, y1)\n",
    "grid_search_gb.fit(X1, y1)\n",
    "\n",
    "# Get best parameters\n",
    "best_dt = grid_search_dt.best_estimator_\n",
    "best_gb = grid_search_gb.best_estimator_\n",
    "\n",
    "print(\"Best Decision Tree parameters:\", grid_search_dt.best_params_)\n",
    "print(\"Best Gradient Boosting parameters:\", grid_search_gb.best_params_)\n"
   ]
  },
  {
   "cell_type": "markdown",
   "id": "e0bb811c-efd1-4115-b218-a59dc7706811",
   "metadata": {},
   "source": [
    "scores_auc = []\n",
    "scores_f1 = []\n",
    "\n",
    "kfold = 5\n",
    "skf = StratifiedKFold(n_splits=kfold, shuffle = True)\n",
    "\n",
    "\n",
    "#Crossvalidation loop for training model and model prediction rates\n",
    "for i, (train_index, test_index) in enumerate(skf.split(X1, y1)):\n",
    "    print(f'[Fold {i + 1}/{kfold}]')\n",
    "    X_train, X_valid = X1[train_index], X1[test_index]\n",
    "    y_train, y_valid = y1[train_index], y1[test_index]\n",
    "    \n",
    "#Fit models and get predictions\n",
    "    model1 = DecisionTreeClassifier(random_state=seed, criterion='entropy', max_depth=10, min_samples_split=10)\n",
    "    model1.fit(X_train, y_train)\n",
    "    y_pred1 = model1.predict_proba(X_valid)[:, 1]\n",
    "    \n",
    "    model2 = GradientBoostingClassifier(random_state=seed, n_estimators=100, learning_rate=0.1, max_depth=5)\n",
    "    model2.fit(X_train, y_train)\n",
    "    y_pred2 = model2.predict_proba(X_valid)[:, 1]\n",
    "    \n",
    "    model3 = GaussianNB(var_smoothing=1e-9)\n",
    "    model3.fit(X_train, y_train)\n",
    "    y_pred3 = model3.predict_proba(X_valid)[:, 1]\n",
    "\n",
    "    # Calculate F1-scores for each model\n",
    "    f1_scores = [\n",
    "        f1_score(y_valid, np.where(y_pred1 < 0.5, 0, 1)),\n",
    "        f1_score(y_valid, np.where(y_pred2 < 0.5, 0, 1)),\n",
    "        f1_score(y_valid, np.where(y_pred3 < 0.5, 0, 1))\n",
    "    ]\n",
    "\n",
    "#Original: fixed weights     y_pred = 0.2 * y_pred1 + 0.15 * y_pred2 + 0.65*y_pred3\n",
    "    #also tried dynamic weighing with ROC AUC Score & Stacking Classifier, but worse F1-Score\n",
    "    # Calculate weights based on F1-scores\n",
    "    total_f1_score = sum(f1_scores)\n",
    "    weights = [score / total_f1_score for score in f1_scores]\n",
    "\n",
    "    # Combine predictions with dynamic weights\n",
    "    y_pred = weights[0] * y_pred1 + weights[1] * y_pred2 + weights[2] * y_pred3\n",
    "    \n",
    "    # Calculate ROC AUC score for the combined predictions\n",
    "    score_auc = roc_auc_score(y_valid, y_pred)\n",
    "    scores_auc.append(score_auc)\n",
    "    \n",
    "    # Calculate F1-score for the combined predictions\n",
    "    y_pred_label = np.where(y_pred < 0.5, 0, 1)\n",
    "    score_f1 = f1_score(y_valid, y_pred_label)\n",
    "    scores_f1.append(score_f1)\n",
    "\n",
    "    print(f'Fold {i + 1}/{kfold} - AUC Score: {score_auc}, F1 Score: {score_f1}')\n",
    "\n",
    " #Print average scores across all folds\n",
    "print(f\"Avg AUC score - {np.mean(scores_auc)}\")\n",
    "print(f\"Avg F1 score - {np.mean(scores_f1)}\")"
   ]
  },
  {
   "cell_type": "code",
   "execution_count": 725,
   "id": "29081b03-fff2-4cd2-82b0-2562293144aa",
   "metadata": {},
   "outputs": [
    {
     "name": "stdout",
     "output_type": "stream",
     "text": [
      "[Fold 1/5]\n",
      "Fold 1/5 - AUC Score: 0.8816067653276956, F1 Score: 0.6206896551724137\n",
      "[Fold 2/5]\n",
      "Fold 2/5 - AUC Score: 0.9133192389006343, F1 Score: 0.7142857142857143\n",
      "[Fold 3/5]\n",
      "Fold 3/5 - AUC Score: 0.8837209302325582, F1 Score: 0.6206896551724137\n",
      "[Fold 4/5]\n",
      "Fold 4/5 - AUC Score: 0.7991543340380549, F1 Score: 0.4848484848484849\n",
      "[Fold 5/5]\n",
      "Fold 5/5 - AUC Score: 0.8837209302325582, F1 Score: 0.5454545454545454\n",
      "Avg AUC score - 0.8723044397463001\n",
      "Avg F1 score - 0.5971936109867144\n"
     ]
    }
   ],
   "source": [
    "scores_auc = []\n",
    "scores_f1 = []\n",
    "\n",
    "kfold = 5\n",
    "skf = StratifiedKFold(n_splits=kfold, shuffle = True)\n",
    "\n",
    "\n",
    "# Crossvalidation loop for training model and model prediction rates\n",
    "for i, (train_index, test_index) in enumerate(skf.split(X1, y1)):\n",
    "    print(f'[Fold {i + 1}/{kfold}]')\n",
    "    X_train, X_valid = X1[train_index], X1[test_index]\n",
    "    y_train, y_valid = y1[train_index], y1[test_index]\n",
    "    \n",
    "    # Fit models and get predictions\n",
    "    model1 = DecisionTreeClassifier(random_state=seed, criterion='entropy', max_depth=10, min_samples_split=10)\n",
    "    model1.fit(X_train, y_train)\n",
    "    y_pred1 = model1.predict_proba(X_valid)[:, 1]\n",
    "    \n",
    "    model2 = GradientBoostingClassifier(random_state=seed, n_estimators=100, learning_rate=0.1, max_depth=5)\n",
    "    model2.fit(X_train, y_train)\n",
    "    y_pred2 = model2.predict_proba(X_valid)[:, 1]\n",
    "    \n",
    "    model3 = GaussianNB(var_smoothing=1e-9)\n",
    "    model3.fit(X_train, y_train)\n",
    "    y_pred3 = model3.predict_proba(X_valid)[:, 1]\n",
    "\n",
    "    # Calculate F1-scores for each model\n",
    "    f1_scores = [\n",
    "        f1_score(y_valid, np.where(y_pred1 < 0.55, 0, 1)),\n",
    "        f1_score(y_valid, np.where(y_pred2 < 0.55, 0, 1)),\n",
    "        f1_score(y_valid, np.where(y_pred3 < 0.55, 0, 1))\n",
    "    ]\n",
    "# Weighing of the models with fixed parameters\n",
    "    #also tried dynamic weighing with F1_Score (as seen above), ROC AUC Score & Stacking Classifier --> all produce worse results\n",
    "    y_pred = 0.2 * y_pred1 + 0.15 * y_pred2 + 0.65*y_pred3\n",
    "# Calculate ROC AUC score for the combined predictions\n",
    "    score_auc = roc_auc_score(y_valid, y_pred)\n",
    "    scores_auc.append(score_auc)\n",
    "    \n",
    "    # Calculate F1-score for the combined predictions\n",
    "    y_pred_label = np.where(y_pred < 0.55, 0, 1)\n",
    "    score_f1 = f1_score(y_valid, y_pred_label)\n",
    "    scores_f1.append(score_f1)\n",
    "\n",
    "    print(f'Fold {i + 1}/{kfold} - AUC Score: {score_auc}, F1 Score: {score_f1}')\n",
    "\n",
    "# Print average scores across all folds\n",
    "print(f\"Avg AUC score - {np.mean(scores_auc)}\")\n",
    "print(f\"Avg F1 score - {np.mean(scores_f1)}\")"
   ]
  },
  {
   "cell_type": "markdown",
   "id": "26b890ab-67b6-4194-99d8-ce7fa5970d68",
   "metadata": {},
   "source": [
    "### Algorithm with Domain Knowledge Incorporation"
   ]
  },
  {
   "cell_type": "markdown",
   "id": "e484e2a5-d4ae-456f-971c-36a5e42fc934",
   "metadata": {},
   "source": [
    "#tried implementing indicators to input domain knowledge, but the only option was dropping columns\n",
    "--> isn't productive with a small sample size\n",
    "#still implementing indicators and output as their values, was an insight into what the algorithm prioritises \n",
    "\n",
    "from sklearn.naive_bayes import GaussianNB\n",
    "from sklearn.model_selection import StratifiedKFold\n",
    "from sklearn.tree import DecisionTreeClassifier\n",
    "from sklearn.ensemble import GradientBoostingClassifier\n",
    "from sklearn.metrics import roc_auc_score, f1_score\n",
    "import numpy as np\n",
    "\n",
    "#Initialize scores\n",
    "scores_auc = []\n",
    "scores_f1 = []\n",
    "kfold = 5\n",
    "skf = StratifiedKFold(n_splits=kfold, shuffle=True)\n",
    "\n",
    "#Define domain knowledge-based feature selection\n",
    "important_features = ['A1_Score', 'A3_Score', 'A7_Score', 'A9_Score', 'A10_Score']  # Example feature names\n",
    "\n",
    "#Cross-validation loop\n",
    "for i, (train_index, test_index) in enumerate(skf.split(X1, y1)):\n",
    "    print(f'[Fold {i + 1}/{kfold}]')\n",
    "    \n",
    "    # Use simple indexing for NumPy arrays\n",
    "    X_train, X_valid = X1[train_index], X1[test_index]\n",
    "    y_train, y_valid = y1[train_index], y1[test_index]\n",
    "\n",
    "    # Assuming you have a list of feature names to get indices\n",
    "    feature_names = ['A1_Score', 'A2_Score', 'A3_Score', 'A4_Score', 'A5_Score', 'A6_Score', 'A7_Score', 'A8_Score', 'A9_Score', 'A10_Score']  # Example feature names list\n",
    "    important_features_indices = [feature_names.index(name) for name in important_features]\n",
    "\n",
    "    # Fit models\n",
    "    model1 = DecisionTreeClassifier(random_state=seed, criterion='entropy', max_depth=10, min_samples_split=10)\n",
    "    model1.fit(X_train, y_train)\n",
    "\n",
    "    model2 = GradientBoostingClassifier(random_state=seed, n_estimators=100, learning_rate=0.1, max_depth=5)\n",
    "    model2.fit(X_train, y_train)\n",
    "\n",
    "    model3 = GaussianNB(var_smoothing=1e-9)\n",
    "    model3.fit(X_train, y_train)\n",
    "\n",
    "    # Get predictions\n",
    "    y_pred1 = model1.predict_proba(X_valid)[:, 1]\n",
    "    y_pred2 = model2.predict_proba(X_valid)[:, 1]\n",
    "    y_pred3 = model3.predict_proba(X_valid)[:, 1]\n",
    "\n",
    "    # Feature importance\n",
    "    importance1 = model1.feature_importances_\n",
    "    importance2 = model2.feature_importances_\n",
    "\n",
    "    # Print feature importances for analysis\n",
    "    print(f'Feature importances from model1: {importance1}')\n",
    "    print(f'Feature importances from model2: {importance2}')\n",
    "\n",
    "    # Select important features based on indices\n",
    "    X_train_important = X_train[:, important_features_indices]  # Select important features\n",
    "    X_valid_important = X_valid[:, important_features_indices]  # Select important features\n",
    "\n",
    "    # Fit models on important features only\n",
    "    model1.fit(X_train_important, y_train)\n",
    "    model2.fit(X_train_important, y_train)\n",
    "    model3.fit(X_train_important, y_train)\n",
    "\n",
    "    # Get predictions for important features\n",
    "    y_pred1 = model1.predict_proba(X_valid_important)[:, 1]\n",
    "    y_pred2 = model2.predict_proba(X_valid_important)[:, 1]\n",
    "    y_pred3 = model3.predict_proba(X_valid_important)[:, 1]\n",
    "\n",
    "    # Combine predictions\n",
    "    y_pred = 0.2 * y_pred1 + 0.15 * y_pred2 + 0.65 * y_pred3\n",
    "\n",
    "    # Calculate metrics\n",
    "    score_auc = roc_auc_score(y_valid, y_pred)\n",
    "    scores_auc.append(score_auc)\n",
    "\n",
    "    # Convert probabilities to binary predictions for F1 score\n",
    "    y_pred_label = np.where(y_pred < 0.5, 0, 1)\n",
    "    score_f1 = f1_score(y_valid, y_pred_label)\n",
    "    scores_f1.append(score_f1)\n",
    "\n",
    "    # Print scores for the current fold\n",
    "    print(f'Fold {i + 1}/{kfold} - AUC Score: {score_auc:.4f}, F1 Score: {score_f1:.4f}')\n",
    "\n",
    "#Print average scores across all folds\n",
    "print(f\"Avg AUC score - {np.mean(scores_auc):.4f}\")\n",
    "print(f\"Avg F1 score - {np.mean(scores_f1):.4f}\")\n"
   ]
  },
  {
   "cell_type": "code",
   "execution_count": 735,
   "id": "130ac898-cf0c-460c-a94c-677aaa45b567",
   "metadata": {},
   "outputs": [
    {
     "name": "stdout",
     "output_type": "stream",
     "text": [
      "[Fold 1/5]\n",
      "Fold 1/5 - AUC Score: 0.8012684989429175, F1 Score: 0.6206896551724137\n",
      "[Fold 2/5]\n",
      "Fold 2/5 - AUC Score: 0.9154334038054968, F1 Score: 0.6153846153846153\n",
      "[Fold 3/5]\n",
      "Fold 3/5 - AUC Score: 0.9640591966173362, F1 Score: 0.6111111111111112\n",
      "[Fold 4/5]\n",
      "Fold 4/5 - AUC Score: 0.904862579281184, F1 Score: 0.6896551724137931\n",
      "[Fold 5/5]\n",
      "Fold 5/5 - AUC Score: 0.8752642706131077, F1 Score: 0.6153846153846153\n",
      "Avg AUC score - 0.8921775898520086\n",
      "Avg F1 score - 0.6304450338933097\n"
     ]
    }
   ],
   "source": [
    "import numpy as np\n",
    "import pandas as pd\n",
    "from sklearn.model_selection import StratifiedKFold\n",
    "from sklearn.tree import DecisionTreeClassifier\n",
    "from sklearn.ensemble import GradientBoostingClassifier\n",
    "from sklearn.naive_bayes import GaussianNB\n",
    "from sklearn.metrics import f1_score, roc_auc_score\n",
    "\n",
    "# Assuming X1 and y1 are already defined as your features and target variable\n",
    "\n",
    "# Custom scaling function\n",
    "def custom_scale(feature, scale_factor):\n",
    "    return feature * scale_factor\n",
    "\n",
    "# Create a DataFrame from X1 for easier manipulation\n",
    "df = pd.DataFrame(X1)\n",
    "\n",
    "# Identify important features (for example purposes, let's assume feature indices 0 and 2 are important)\n",
    "important_feature_indices = [0, 6, 9]  # Indices of important features\n",
    "scaling_factors = {0 : 1.5, 6: 1.88, 9: 1.6 } # Scaling factors for each feature\n",
    "\n",
    "# Scale the important features individually\n",
    "for index in important_feature_indices:\n",
    "    df[index] = custom_scale(df[index], scaling_factors[index])\n",
    "\n",
    "# Convert back to numpy array for model training\n",
    "X1_scaled = df.values\n",
    "\n",
    "scores_auc = []\n",
    "scores_f1 = []\n",
    "\n",
    "kfold = 5\n",
    "skf = StratifiedKFold(n_splits=kfold, shuffle=True)\n",
    "\n",
    "# Cross-validation loop for training model and model prediction rates\n",
    "for i, (train_index, test_index) in enumerate(skf.split(X1_scaled, y1)):\n",
    "    print(f'[Fold {i + 1}/{kfold}]')\n",
    "    X_train, X_valid = X1_scaled[train_index], X1_scaled[test_index]\n",
    "    y_train, y_valid = y1[train_index], y1[test_index]\n",
    "    \n",
    "    # Fit models and get predictions\n",
    "    model1 = DecisionTreeClassifier(random_state=42, criterion='entropy', max_depth=10, min_samples_split=10)\n",
    "    model1.fit(X_train, y_train)\n",
    "    y_pred1 = model1.predict_proba(X_valid)[:, 1]\n",
    "    \n",
    "    model2 = GradientBoostingClassifier(random_state=42, n_estimators=100, learning_rate=0.1, max_depth=5)\n",
    "    model2.fit(X_train, y_train)\n",
    "    y_pred2 = model2.predict_proba(X_valid)[:, 1]\n",
    "    \n",
    "    model3 = GaussianNB(var_smoothing=1e-9)\n",
    "    model3.fit(X_train, y_train)\n",
    "    y_pred3 = model3.predict_proba(X_valid)[:, 1]\n",
    "\n",
    "    # Calculate F1-scores for each model\n",
    "    f1_scores = [\n",
    "        f1_score(y_valid, np.where(y_pred1 < 0.5, 0, 1)),\n",
    "        f1_score(y_valid, np.where(y_pred2 < 0.5, 0, 1)),\n",
    "        f1_score(y_valid, np.where(y_pred3 < 0.5, 0, 1))\n",
    "    ]\n",
    "    \n",
    "    # Weighing of the models with fixed parameters\n",
    "    y_pred = 0.2 * y_pred1 + 0.15 * y_pred2 + 0.65 * y_pred3\n",
    "    \n",
    "    # Calculate ROC AUC score for the combined predictions\n",
    "    score_auc = roc_auc_score(y_valid, y_pred)\n",
    "    scores_auc.append(score_auc)\n",
    "    \n",
    "    # Calculate F1-score for the combined predictions\n",
    "    y_pred_label = np.where(y_pred < 0.5, 0, 1)\n",
    "    score_f1 = f1_score(y_valid, y_pred_label)\n",
    "    scores_f1.append(score_f1)\n",
    "\n",
    "    print(f'Fold {i + 1}/{kfold} - AUC Score: {score_auc}, F1 Score: {score_f1}')\n",
    "\n",
    "# Print average scores across all folds\n",
    "print(f\"Avg AUC score - {np.mean(scores_auc)}\")\n",
    "print(f\"Avg F1 score - {np.mean(scores_f1)}\")"
   ]
  }
 ],
 "metadata": {
  "kernelspec": {
   "display_name": "Python 3 (ipykernel)",
   "language": "python",
   "name": "python3"
  },
  "language_info": {
   "codemirror_mode": {
    "name": "ipython",
    "version": 3
   },
   "file_extension": ".py",
   "mimetype": "text/x-python",
   "name": "python",
   "nbconvert_exporter": "python",
   "pygments_lexer": "ipython3",
   "version": "3.11.7"
  }
 },
 "nbformat": 4,
 "nbformat_minor": 5
}
